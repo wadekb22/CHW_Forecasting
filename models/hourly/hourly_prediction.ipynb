{
 "cells": [
  {
   "cell_type": "code",
   "execution_count": null,
   "metadata": {},
   "outputs": [],
   "source": [
    "import pandas as pd\n",
    "import numpy as np\n",
    "from datetime import datetime\n",
    "import math\n",
    "from sklearn.ensemble import RandomForestRegressor\n",
    "from sklearn.ensemble import GradientBoostingRegressor\n",
    "from sklearn.metrics import accuracy_score, f1_score, confusion_matrix, precision_score, recall_score, roc_auc_score\n",
    "from sklearn import metrics\n",
    "from sklearn.model_selection import train_test_split\n",
    "import matplotlib.pyplot as plt\n",
    "\n",
    "df = pd.read_csv('merged_data.csv')\n",
    "df.head()"
   ]
  },
  {
   "cell_type": "code",
   "execution_count": null,
   "metadata": {},
   "outputs": [],
   "source": [
    "## Selecting columns of interest to us.\n",
    "filtered_cols = [\n",
    "    'DATE',\n",
    "    'Total Power (max)',\n",
    "    'Total Power (avg)',\n",
    "    'HourlyDryBulbTemperature',\n",
    "    'HourlyWetBulbTemperature',\n",
    "    'HourlyRelativeHumidity'\n",
    "]\n",
    "\n",
    "## Making a new dataframe only with these columns of interest.\n",
    "hourly = df[filtered_cols]\n",
    "hourly['DATE'] = hourly['DATE'].astype(str)"
   ]
  },
  {
   "cell_type": "code",
   "execution_count": null,
   "metadata": {
    "scrolled": true
   },
   "outputs": [],
   "source": [
    "## Reformatting datetime object to make new date column...not working for me.\n",
    "dates = []\n",
    "for i, row in hourly.iterrows():\n",
    "    dates.append(datetime.strptime(row['DATE'], '%m/%d/%Y %H:%M').date())\n",
    "    \n",
    "    for column in hourly.columns[1:]:\n",
    "        try:\n",
    "            hourly.at[i, column] = hourly.at[i, column].astype(float)\n",
    "        except:\n",
    "            hourly.at[i, column] = 0\n",
    "            \n",
    "daily = hourly.drop(columns = ['DATE']).copy()\n",
    "daily['date'] = dates\n",
    "\n",
    "colList = daily.copy().columns[:-1] "
   ]
  },
  {
   "cell_type": "code",
   "execution_count": null,
   "metadata": {},
   "outputs": [],
   "source": [
    "## Doing a groupby to get the summary data for each day...including the max, the variable of interest.\n",
    "groupby = daily.groupby('date').describe()\n",
    "groupby.head()"
   ]
  },
  {
   "cell_type": "code",
   "execution_count": null,
   "metadata": {},
   "outputs": [],
   "source": [
    "## Function to get the weekdays and create a new column indicating whether or not a particular day is a weekday.\n",
    "def getWeekdays(df, datecol):\n",
    "    weekdays = []\n",
    "    for i, row in df.iterrows():\n",
    "        weekdays.append(row[datecol].weekday())\n",
    "\n",
    "    df['weekday'] = weekdays"
   ]
  },
  {
   "cell_type": "code",
   "execution_count": null,
   "metadata": {},
   "outputs": [],
   "source": [
    "## Function to run the model, takes a dataframe, model, and by default sets the 'predictorVar' (the response var?)\n",
    "## to 'Total Power (max)', we must drop the date and total power (max) columns for it to work? Maybe this will become clear after reset daily.\n",
    "def runModel(df, model, predictorVar = 'Total Power (max)', \n",
    "             dropCols = ['date', 'Total Power (max)']):\n",
    "    X = df.drop(columns = dropCols)\n",
    "    Y = df[predictorVar]\n",
    "\n",
    "    X_train, X_test, Y_train, Y_test = train_test_split(X, Y, test_size = 0.2, random_state=12345)\n",
    "    ## I don't understand the train test split happening and how it is in intervals...\n",
    "    \n",
    "    #print(X_train.shape, X_test.shape, Y_train.shape, Y_test.shape)\n",
    "\n",
    "    #rf = RandomForestRegressor()\n",
    "    model.fit(X_train, Y_train)\n",
    "    \n",
    "    rsq = model.score(X_test, Y_test)\n",
    "    rmse = math.sqrt(metrics.mean_squared_error(Y_test, model.predict(X_test)))\n",
    "    mae = metrics.mean_absolute_error(Y_test, model.predict(X_test))\n",
    "    \n",
    "    print(\"R Squared Score: {:.4f}\".format(rsq))\n",
    "    print(\"Root Mean Squared Error: {:.2f}\".format(rmse))\n",
    "    print(\"Mean Absolute Error: {:.2f}\".format(mae))\n",
    "\n",
    "    #importance = pd.DataFrame({'col_name': rf.feature_importances_}, index=X.columns).sort_values(by='col_name', ascending=False)\n",
    "    #importance['col_name'] = 100*importance['col_name']\n",
    "    #print(importance[:10])\n",
    "    \n",
    "    return mae, rmse, rsq"
   ]
  },
  {
   "cell_type": "code",
   "execution_count": null,
   "metadata": {},
   "outputs": [],
   "source": [
    "## The goal of resetDaily is to reset the window from which we are predicting.\n",
    "## Inputs: groupbyDF---the dataframe grouped by day, collist---list of columns in groupby, minus the date column?\n",
    "## ndays---the number of days we have to look ahead, trainDays---the number of days to look back, model---the kind of model we want to run.\n",
    "def resetDaily(groupbyDF = groupby, collist = colList, ndays = 0, trainDays = 5, \n",
    "               model = RandomForestRegressor()):\n",
    "    parameters = ['min', 'max', 'mean'] # We are looking at min, max and mean as our predictors in the data looking BACK\n",
    "    dailyCols = ['date'] # why?\n",
    "    dailyData = {'date':list(groupby.index)} # Create a dictionary, key is date, values are list of data\n",
    "\n",
    "    # Reformatting the data to grab what we want, the max power for the day, the mean power for the day\n",
    "    for column in collist:\n",
    "        if(column == 'Total Power (max)'):\n",
    "            dailyData['Total Power (max)'] = list(groupby[column]['max'])\n",
    "        elif(column == 'Total Power (avg)'):\n",
    "            dailyData['Total Power (avg)'] = list(groupby[column]['mean'])\n",
    "        else:                                     \n",
    "            for param in parameters: # IDK WHAT THIS PART DOES, is it just a catch all?\n",
    "                dailyData[param + \"_\" + column] = list(groupby[column][param])\n",
    "\n",
    "    daily = pd.DataFrame(dailyData) # Creating a dataframe from the dictionary 'dailyData'\n",
    "    \n",
    "    # Define a list of columns we are interested in for LOOKING BACK.\n",
    "    nday_cols = [\n",
    "        'mean_HourlyDryBulbTemperature',\n",
    "        'mean_HourlyWetBulbTemperature',\n",
    "        'max_HourlyDryBulbTemperature',\n",
    "        'max_HourlyWetBulbTemperature',\n",
    "        'Total Power (avg)', 'Total Power (max)']\n",
    "    \n",
    "    if(ndays > 0):\n",
    "        for col in nday_cols[:-2]: # except total power (avg), and total power (max)?\n",
    "            for i in range(ndays + trainDays): # create several new columns, for one day back, two days back, three days back, etc.\n",
    "                colname = col + \"-\" + str(i + 1) + \"day\"\n",
    "                daily[colname] = daily[col].shift(i+1) \n",
    "        \n",
    "        # I don't get this part?\n",
    "        for col in nday_cols[-2:]: # for avg total power and max total power only...\n",
    "            for i in range(ndays, trainDays + ndays):\n",
    "                colname = col + \"-\" + str(i) + \"day\" # looks ahead?? or looks back the appropriate amount of days?\n",
    "                daily[colname] = daily[col].shift(i)\n",
    "        \n",
    "    daily = daily.dropna().drop(columns = ['Total Power (avg)']) # Drop this because it can't be a predictor\n",
    "    \n",
    "    getWeekdays(daily, 'date') # What does this do?\n",
    "    \n",
    "    mae, rmse, rsq = runModel(daily, model) # run the model on the new dataframe\n",
    "    ## Is the model input random forest regressor?\n",
    "    \n",
    "    return daily, mae, rmse, rsq"
   ]
  },
  {
   "cell_type": "code",
   "execution_count": null,
   "metadata": {},
   "outputs": [],
   "source": [
    "def pltErrors(trainingDays,\n",
    "             errorDict = {'ndays':[],'MAE':[], 'RMSE':[], 'RSQ':[]}):\n",
    "    plt.plot(errorDict['ndays'], errorDict['MAE'])\n",
    "    plt.plot(errorDict['ndays'], errorDict['RMSE'])\n",
    "\n",
    "    plt.legend(['MAE', 'RMSE'])\n",
    "    plt.xlabel('n_days')\n",
    "    plt.ylabel('Model Error')\n",
    "    plt.title('Train Days = ' + str(trainingDays+1))\n",
    "    plt.ylim(ymin=0, ymax =3000)\n",
    "    xint = range(min(errorDict['ndays']), math.ceil(max(errorDict['ndays']))+1)\n",
    "    plt.xticks(xint)\n",
    "    \n",
    "    plt.show()"
   ]
  },
  {
   "cell_type": "code",
   "execution_count": null,
   "metadata": {},
   "outputs": [],
   "source": [
    "resetDaily(ndays = 5, trainDays = 10)[0].columns"
   ]
  },
  {
   "cell_type": "code",
   "execution_count": null,
   "metadata": {
    "scrolled": true
   },
   "outputs": [],
   "source": [
    "def testErrors(model = RandomForestRegressor(), \n",
    "               trainDaysRange = 10, n_days= 5):\n",
    "    for j in range(trainDaysRange):\n",
    "        errors = {'ndays':[],'MAE':[], 'RMSE':[], 'RSQ':[]}\n",
    "        for i in range(n_days):\n",
    "            print(\"{} days:\".format(i+1))\n",
    "            daily, mae, rmse, rsq = resetDaily(model, \n",
    "                                               ndays = i+1, trainDays = j+1)\n",
    "            print()\n",
    "\n",
    "            errors['MAE'].append(mae)\n",
    "            errors['RMSE'].append(rmse)\n",
    "            errors['RSQ'].append(rsq)\n",
    "            errors['ndays'].append(i+1)\n",
    "\n",
    "        pltErrors(j, errors)"
   ]
  },
  {
   "cell_type": "code",
   "execution_count": null,
   "metadata": {},
   "outputs": [],
   "source": [
    "testErrors(model = RandomForestRegressor())"
   ]
  },
  {
   "cell_type": "code",
   "execution_count": null,
   "metadata": {},
   "outputs": [],
   "source": [
    "testErrors(model = GradientBoostingRegressor())"
   ]
  },
  {
   "cell_type": "code",
   "execution_count": null,
   "metadata": {},
   "outputs": [],
   "source": [
    "## Questions:\n",
    "## Can we improve by creating dummy variables for time of day?\n",
    "## Then incrimenting an hour of day input parameter by one for each prediction?"
   ]
  }
 ],
 "metadata": {
  "kernelspec": {
   "display_name": "Python 3",
   "language": "python",
   "name": "python3"
  },
  "language_info": {
   "codemirror_mode": {
    "name": "ipython",
    "version": 3
   },
   "file_extension": ".py",
   "mimetype": "text/x-python",
   "name": "python",
   "nbconvert_exporter": "python",
   "pygments_lexer": "ipython3",
   "version": "3.8.5"
  }
 },
 "nbformat": 4,
 "nbformat_minor": 4
}
