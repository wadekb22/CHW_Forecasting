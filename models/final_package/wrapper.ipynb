{
 "cells": [
  {
   "cell_type": "code",
   "execution_count": null,
   "metadata": {},
   "outputs": [],
   "source": [
    "#sample implementation of prediction being made\n",
    "power_forecast = CHWForecasting()\n",
    "power_forecast.load(\"/filename\")\n",
    "forecast = power_forecast.predict_forecast(recent_power=past24_power, \n",
    "                                           recent_weather=past24_weather, \n",
    "                                           forecasted_weather=future120_weather)\n",
    "\n",
    "\n",
    "# Sample implementation of model retraining\n",
    "new_forecast = CHWForecasting()\n",
    "new_forecast.build_model(hourly_power=power_data, \n",
    "                         hourly_weather=weather_data, \n",
    "                         hrs_before=24, \n",
    "                         hrs_after=120)\n",
    "new_forecast.save(\"/filename\")"
   ]
  },
  {
   "cell_type": "code",
   "execution_count": 1,
   "metadata": {},
   "outputs": [],
   "source": [
    "# Wrapper will provide code to help UEM transition data as they have it to the format needed for CHWForecasting\n",
    "\n",
    "def to_hourly_power():\n",
    "    \"\"\"Convert power data to hourly measurement. For\"\"\"\n",
    "    pass\n",
    "\n",
    "#Not sure what this will entail until \n",
    "def clean_weather():\n",
    "    \"\"\"  \"\"\""
   ]
  }
 ],
 "metadata": {
  "kernelspec": {
   "display_name": "Python 3",
   "language": "python",
   "name": "python3"
  },
  "language_info": {
   "codemirror_mode": {
    "name": "ipython",
    "version": 3
   },
   "file_extension": ".py",
   "mimetype": "text/x-python",
   "name": "python",
   "nbconvert_exporter": "python",
   "pygments_lexer": "ipython3",
   "version": "3.7.6"
  }
 },
 "nbformat": 4,
 "nbformat_minor": 4
}
