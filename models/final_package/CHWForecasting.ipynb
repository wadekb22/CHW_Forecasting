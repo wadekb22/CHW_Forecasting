{
 "cells": [
  {
   "cell_type": "code",
   "execution_count": 1,
   "metadata": {},
   "outputs": [],
   "source": [
    "# External packages\n",
    "try:\n",
    "   import cPickle as pickle  # cPickle is faster, but not as complete\n",
    "except:\n",
    "   import pickle\n"
   ]
  },
  {
   "cell_type": "code",
   "execution_count": null,
   "metadata": {},
   "outputs": [],
   "source": [
    "class CHWForecasting:\n",
    "    \n",
    "    def CHWForecasting(self, model_file=None):\n",
    "        \"\"\"Creates a chilled water forcasting object. Loads an earlier model from file if 'model_file' is specified.\"\"\"\n",
    "        self._model = None\n",
    "        self._hrs_before = None\n",
    "        self._hrs_after = None\n",
    "        \n",
    "        if model_file is not None:\n",
    "            # unpickle here\n",
    "            self.load(model_file)\n",
    "    \n",
    "    def build_model(self, hourly_power, hourly_weather, hrs_before, hrs_after):\n",
    "        \"\"\"Build and train model using 'hourly power' and 'hourly weather' as training data.\n",
    "        \n",
    "        Use hrs_before and hrs_after to specify the range data should be windowed to. hrs_after should match the \n",
    "        numbers of hours in the future preditions will be made on.\n",
    "        \"\"\"\n",
    "        pass\n",
    "    \n",
    "    def predict_forecast(self, recent_power, recent_weather, forecasted_weather):\n",
    "        \"\"\"Creates a forecast object for this class using provided data to give predictions.\"\"\"\n",
    "        pass\n",
    "    \n",
    "    # load and save are untested, should work though\n",
    "    # https://stackoverflow.com/questions/2709800/how-to-pickle-yourself\n",
    "    def load(self, filename):\n",
    "        \"\"\"  \"\"\"\n",
    "        f = open(filename, 'rb')\n",
    "        tmp_dict = pickle.load(f)\n",
    "        f.close()          \n",
    "        self.__dict__.clear()\n",
    "        self.__dict__.update(tmp_dict) \n",
    "\n",
    "\n",
    "    def save(self, filename):\n",
    "        \"\"\"  \"\"\"\n",
    "        f = open(filename, 'wb')\n",
    "        pickle.dump(self.__dict__, f, 2)\n",
    "        f.close()"
   ]
  },
  {
   "cell_type": "code",
   "execution_count": null,
   "metadata": {},
   "outputs": [],
   "source": [
    "class Forecast:\n",
    "    \n",
    "    def Forecast(self, power, time):\n",
    "        self._forecasted_power = power  # List of future predictions for each future hour\n",
    "        self._init_time = time          # Time prediction was made from\n",
    "    \n",
    "    def get_next_max(self):\n",
    "        \"\"\"Returns time and value of next power maximum within 24 hrs\"\"\"\n",
    "        pass\n",
    "    \n",
    "    def get_daily_max(self):\n",
    "        \"\"\"Returns time and value of next power maximum for each 24 hrs in the forecast\"\"\"\n",
    "        pass"
   ]
  }
 ],
 "metadata": {
  "kernelspec": {
   "display_name": "Python 3",
   "language": "python",
   "name": "python3"
  },
  "language_info": {
   "codemirror_mode": {
    "name": "ipython",
    "version": 3
   },
   "file_extension": ".py",
   "mimetype": "text/x-python",
   "name": "python",
   "nbconvert_exporter": "python",
   "pygments_lexer": "ipython3",
   "version": "3.7.6"
  }
 },
 "nbformat": 4,
 "nbformat_minor": 4
}
