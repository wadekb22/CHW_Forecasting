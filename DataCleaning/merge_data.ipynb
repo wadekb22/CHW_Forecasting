{
 "cells": [
  {
   "cell_type": "code",
   "execution_count": 1,
   "metadata": {},
   "outputs": [],
   "source": [
    "import pandas as pd\n",
    "import numpy as np\n",
    "from os import listdir"
   ]
  },
  {
   "cell_type": "code",
   "execution_count": 2,
   "metadata": {},
   "outputs": [
    {
     "name": "stdout",
     "output_type": "stream",
     "text": [
      "['cleaned_power_16.csv', 'cleaned_power_17.csv', 'cleaned_power_18.csv', 'cleaned_power_19.csv', 'cleaned_power_20.csv']\n"
     ]
    }
   ],
   "source": [
    "folder = \"cleaned_power_5yr\"\n",
    "print(listdir(folder))\n",
    "onlyfiles = [f\"{folder}/{f}\" for f in listdir(folder)]"
   ]
  },
  {
   "cell_type": "code",
   "execution_count": 3,
   "metadata": {},
   "outputs": [
    {
     "name": "stderr",
     "output_type": "stream",
     "text": [
      "C:\\Users\\Wade\\anaconda3\\lib\\site-packages\\IPython\\core\\interactiveshell.py:3063: DtypeWarning: Columns (41,42,43,49,51,56,73,75,89) have mixed types.Specify dtype option on import or set low_memory=False.\n",
      "  interactivity=interactivity, compiler=compiler, result=result)\n",
      "C:\\Users\\Wade\\anaconda3\\lib\\site-packages\\IPython\\core\\interactiveshell.py:3063: DtypeWarning: Columns (0,1,2,3,4,5,6,7,8,9) have mixed types.Specify dtype option on import or set low_memory=False.\n",
      "  interactivity=interactivity, compiler=compiler, result=result)\n",
      "C:\\Users\\Wade\\anaconda3\\lib\\site-packages\\IPython\\core\\interactiveshell.py:3063: DtypeWarning: Columns (1,2,3,4,5,6,7,8,9) have mixed types.Specify dtype option on import or set low_memory=False.\n",
      "  interactivity=interactivity, compiler=compiler, result=result)\n",
      "C:\\Users\\Wade\\anaconda3\\lib\\site-packages\\IPython\\core\\interactiveshell.py:3063: DtypeWarning: Columns (1,2,3,4,5,6,7,8,9) have mixed types.Specify dtype option on import or set low_memory=False.\n",
      "  interactivity=interactivity, compiler=compiler, result=result)\n",
      "C:\\Users\\Wade\\anaconda3\\lib\\site-packages\\IPython\\core\\interactiveshell.py:3063: DtypeWarning: Columns (1,2,3,4,5,6,7,8,9) have mixed types.Specify dtype option on import or set low_memory=False.\n",
      "  interactivity=interactivity, compiler=compiler, result=result)\n",
      "C:\\Users\\Wade\\anaconda3\\lib\\site-packages\\IPython\\core\\interactiveshell.py:3063: DtypeWarning: Columns (1,2,3,4,5,6,7,8,9) have mixed types.Specify dtype option on import or set low_memory=False.\n",
      "  interactivity=interactivity, compiler=compiler, result=result)\n"
     ]
    }
   ],
   "source": [
    "weather = pd.read_csv(\"weather_5yr.csv\")\n",
    "#power = pd.read_csv(\"cleaned_power.csv\")\n",
    "yr_power = []\n",
    "for f in onlyfiles:\n",
    "    yr_power.append(pd.read_csv(f).dropna())\n",
    "power = pd.concat(yr_power, ignore_index=True)"
   ]
  },
  {
   "cell_type": "markdown",
   "metadata": {},
   "source": [
    "### Convert all dates to datetime object"
   ]
  },
  {
   "cell_type": "code",
   "execution_count": 4,
   "metadata": {},
   "outputs": [],
   "source": [
    "#power[\"DATE\"] = power.apply(lambda x: pd.Timestamp(x[\"Timestamp\"]), axis=1)\n",
    "#weather[\"DATE\"] = weather.apply(lambda x: pd.Timestamp(x[\"DATE\"]), axis=1)\n",
    "power[\"DATE\"] = pd.to_datetime(power[\"Timestamp\"])\n",
    "weather[\"DATE\"] = pd.to_datetime(weather[\"DATE\"])"
   ]
  },
  {
   "cell_type": "markdown",
   "metadata": {},
   "source": [
    "### Ensure total power is included, reduce to match weather interval"
   ]
  },
  {
   "cell_type": "code",
   "execution_count": 5,
   "metadata": {},
   "outputs": [],
   "source": [
    "#Trim power to match date range\n",
    "date_mismatch = False\n",
    "if date_mismatch:\n",
    "    cutoff = power.index[power['DATE'] == pd.Timestamp('3/1/2020 0:00')].tolist()\n",
    "    power = power.iloc[:cutoff+1,:]"
   ]
  },
  {
   "cell_type": "code",
   "execution_count": 6,
   "metadata": {},
   "outputs": [
    {
     "data": {
      "text/html": [
       "<div>\n",
       "<style scoped>\n",
       "    .dataframe tbody tr th:only-of-type {\n",
       "        vertical-align: middle;\n",
       "    }\n",
       "\n",
       "    .dataframe tbody tr th {\n",
       "        vertical-align: top;\n",
       "    }\n",
       "\n",
       "    .dataframe thead th {\n",
       "        text-align: right;\n",
       "    }\n",
       "</style>\n",
       "<table border=\"1\" class=\"dataframe\">\n",
       "  <thead>\n",
       "    <tr style=\"text-align: right;\">\n",
       "      <th></th>\n",
       "      <th>Timestamp</th>\n",
       "      <th>Chiller-2 Power</th>\n",
       "      <th>Chiller-3 Power</th>\n",
       "      <th>Chiller-4 Power</th>\n",
       "      <th>Chiller-5 Power</th>\n",
       "      <th>Chiller-6 Power</th>\n",
       "      <th>Chiller-7 Power</th>\n",
       "      <th>Chiller-8 Power</th>\n",
       "      <th>Chiller-9 Power</th>\n",
       "      <th>Chiller-10 Power</th>\n",
       "      <th>DATE</th>\n",
       "    </tr>\n",
       "  </thead>\n",
       "  <tbody>\n",
       "    <tr>\n",
       "      <th>0</th>\n",
       "      <td>01-Mar-16 00:00:00</td>\n",
       "      <td>0</td>\n",
       "      <td>0</td>\n",
       "      <td>1179.439331</td>\n",
       "      <td>0</td>\n",
       "      <td>0</td>\n",
       "      <td>15.89638424</td>\n",
       "      <td>0</td>\n",
       "      <td>0.102776416</td>\n",
       "      <td>0</td>\n",
       "      <td>2016-03-01 00:00:00</td>\n",
       "    </tr>\n",
       "    <tr>\n",
       "      <th>1</th>\n",
       "      <td>01-Mar-16 00:01:00</td>\n",
       "      <td>0</td>\n",
       "      <td>0</td>\n",
       "      <td>1195.945435</td>\n",
       "      <td>0</td>\n",
       "      <td>0</td>\n",
       "      <td>15.06277466</td>\n",
       "      <td>0</td>\n",
       "      <td>0.098978162</td>\n",
       "      <td>0</td>\n",
       "      <td>2016-03-01 00:01:00</td>\n",
       "    </tr>\n",
       "    <tr>\n",
       "      <th>2</th>\n",
       "      <td>01-Mar-16 00:02:00</td>\n",
       "      <td>0</td>\n",
       "      <td>0</td>\n",
       "      <td>1175.737549</td>\n",
       "      <td>0</td>\n",
       "      <td>0</td>\n",
       "      <td>15.89653492</td>\n",
       "      <td>0</td>\n",
       "      <td>0.028593669</td>\n",
       "      <td>0</td>\n",
       "      <td>2016-03-01 00:02:00</td>\n",
       "    </tr>\n",
       "    <tr>\n",
       "      <th>3</th>\n",
       "      <td>01-Mar-16 00:03:00</td>\n",
       "      <td>0</td>\n",
       "      <td>0</td>\n",
       "      <td>1179.98291</td>\n",
       "      <td>0</td>\n",
       "      <td>0</td>\n",
       "      <td>15.89653492</td>\n",
       "      <td>0</td>\n",
       "      <td>0.10939043</td>\n",
       "      <td>0</td>\n",
       "      <td>2016-03-01 00:03:00</td>\n",
       "    </tr>\n",
       "    <tr>\n",
       "      <th>4</th>\n",
       "      <td>01-Mar-16 00:04:00</td>\n",
       "      <td>0</td>\n",
       "      <td>0</td>\n",
       "      <td>1198.777954</td>\n",
       "      <td>0</td>\n",
       "      <td>0</td>\n",
       "      <td>15.06291771</td>\n",
       "      <td>0</td>\n",
       "      <td>0.098978162</td>\n",
       "      <td>0</td>\n",
       "      <td>2016-03-01 00:04:00</td>\n",
       "    </tr>\n",
       "    <tr>\n",
       "      <th>...</th>\n",
       "      <td>...</td>\n",
       "      <td>...</td>\n",
       "      <td>...</td>\n",
       "      <td>...</td>\n",
       "      <td>...</td>\n",
       "      <td>...</td>\n",
       "      <td>...</td>\n",
       "      <td>...</td>\n",
       "      <td>...</td>\n",
       "      <td>...</td>\n",
       "      <td>...</td>\n",
       "    </tr>\n",
       "    <tr>\n",
       "      <th>2629435</th>\n",
       "      <td>28-Feb-21 23:55:00</td>\n",
       "      <td>0</td>\n",
       "      <td>1382.180176</td>\n",
       "      <td>0</td>\n",
       "      <td>0</td>\n",
       "      <td>0</td>\n",
       "      <td>0</td>\n",
       "      <td>0</td>\n",
       "      <td>-0.003145</td>\n",
       "      <td>0.210209</td>\n",
       "      <td>2021-02-28 23:55:00</td>\n",
       "    </tr>\n",
       "    <tr>\n",
       "      <th>2629436</th>\n",
       "      <td>28-Feb-21 23:56:00</td>\n",
       "      <td>0</td>\n",
       "      <td>1367.581299</td>\n",
       "      <td>0</td>\n",
       "      <td>0</td>\n",
       "      <td>0</td>\n",
       "      <td>0</td>\n",
       "      <td>0</td>\n",
       "      <td>-0.002276</td>\n",
       "      <td>0.0</td>\n",
       "      <td>2021-02-28 23:56:00</td>\n",
       "    </tr>\n",
       "    <tr>\n",
       "      <th>2629437</th>\n",
       "      <td>28-Feb-21 23:57:00</td>\n",
       "      <td>0</td>\n",
       "      <td>1352.855835</td>\n",
       "      <td>0</td>\n",
       "      <td>0</td>\n",
       "      <td>0</td>\n",
       "      <td>0</td>\n",
       "      <td>0</td>\n",
       "      <td>-0.003423</td>\n",
       "      <td>0.0</td>\n",
       "      <td>2021-02-28 23:57:00</td>\n",
       "    </tr>\n",
       "    <tr>\n",
       "      <th>2629438</th>\n",
       "      <td>28-Feb-21 23:58:00</td>\n",
       "      <td>0</td>\n",
       "      <td>1352.390137</td>\n",
       "      <td>0</td>\n",
       "      <td>0</td>\n",
       "      <td>0</td>\n",
       "      <td>0</td>\n",
       "      <td>0</td>\n",
       "      <td>0.0</td>\n",
       "      <td>0.0</td>\n",
       "      <td>2021-02-28 23:58:00</td>\n",
       "    </tr>\n",
       "    <tr>\n",
       "      <th>2629439</th>\n",
       "      <td>28-Feb-21 23:59:00</td>\n",
       "      <td>0</td>\n",
       "      <td>1386.171753</td>\n",
       "      <td>0</td>\n",
       "      <td>0</td>\n",
       "      <td>0</td>\n",
       "      <td>0</td>\n",
       "      <td>0</td>\n",
       "      <td>-0.003145</td>\n",
       "      <td>0.0</td>\n",
       "      <td>2021-02-28 23:59:00</td>\n",
       "    </tr>\n",
       "  </tbody>\n",
       "</table>\n",
       "<p>2629440 rows × 11 columns</p>\n",
       "</div>"
      ],
      "text/plain": [
       "                  Timestamp Chiller-2 Power Chiller-3 Power Chiller-4 Power  \\\n",
       "0        01-Mar-16 00:00:00               0               0     1179.439331   \n",
       "1        01-Mar-16 00:01:00               0               0     1195.945435   \n",
       "2        01-Mar-16 00:02:00               0               0     1175.737549   \n",
       "3        01-Mar-16 00:03:00               0               0      1179.98291   \n",
       "4        01-Mar-16 00:04:00               0               0     1198.777954   \n",
       "...                     ...             ...             ...             ...   \n",
       "2629435  28-Feb-21 23:55:00               0     1382.180176               0   \n",
       "2629436  28-Feb-21 23:56:00               0     1367.581299               0   \n",
       "2629437  28-Feb-21 23:57:00               0     1352.855835               0   \n",
       "2629438  28-Feb-21 23:58:00               0     1352.390137               0   \n",
       "2629439  28-Feb-21 23:59:00               0     1386.171753               0   \n",
       "\n",
       "        Chiller-5 Power Chiller-6 Power Chiller-7 Power Chiller-8 Power  \\\n",
       "0                     0               0     15.89638424               0   \n",
       "1                     0               0     15.06277466               0   \n",
       "2                     0               0     15.89653492               0   \n",
       "3                     0               0     15.89653492               0   \n",
       "4                     0               0     15.06291771               0   \n",
       "...                 ...             ...             ...             ...   \n",
       "2629435               0               0               0               0   \n",
       "2629436               0               0               0               0   \n",
       "2629437               0               0               0               0   \n",
       "2629438               0               0               0               0   \n",
       "2629439               0               0               0               0   \n",
       "\n",
       "        Chiller-9 Power Chiller-10 Power                DATE  \n",
       "0           0.102776416                0 2016-03-01 00:00:00  \n",
       "1           0.098978162                0 2016-03-01 00:01:00  \n",
       "2           0.028593669                0 2016-03-01 00:02:00  \n",
       "3            0.10939043                0 2016-03-01 00:03:00  \n",
       "4           0.098978162                0 2016-03-01 00:04:00  \n",
       "...                 ...              ...                 ...  \n",
       "2629435       -0.003145         0.210209 2021-02-28 23:55:00  \n",
       "2629436       -0.002276              0.0 2021-02-28 23:56:00  \n",
       "2629437       -0.003423              0.0 2021-02-28 23:57:00  \n",
       "2629438             0.0              0.0 2021-02-28 23:58:00  \n",
       "2629439       -0.003145              0.0 2021-02-28 23:59:00  \n",
       "\n",
       "[2629440 rows x 11 columns]"
      ]
     },
     "execution_count": 6,
     "metadata": {},
     "output_type": "execute_result"
    }
   ],
   "source": [
    "power"
   ]
  },
  {
   "cell_type": "code",
   "execution_count": 7,
   "metadata": {},
   "outputs": [],
   "source": [
    "# ID power columns\n",
    "power_cols = [\n",
    "        'Chiller-2 Power',\n",
    "        'Chiller-3 Power',\n",
    "        'Chiller-4 Power',\n",
    "        'Chiller-5 Power',\n",
    "        'Chiller-6 Power',\n",
    "        'Chiller-7 Power',\n",
    "        'Chiller-8 Power',\n",
    "        'Chiller-9 Power',\n",
    "        'Chiller-10 Power']"
   ]
  },
  {
   "cell_type": "code",
   "execution_count": 8,
   "metadata": {},
   "outputs": [],
   "source": [
    "# Replace string errors in power values with 0\n",
    "for col in power_cols:\n",
    "    power[col] = pd.to_numeric(power[col], errors='coerce')\n",
    "# force all values less than 100 to 0\n",
    "power[power[power_cols]<100]=np.nan\n",
    "# They are pushed to NaN first, then replaced with 0\n",
    "power = power.replace(np.nan,0)"
   ]
  },
  {
   "cell_type": "code",
   "execution_count": 9,
   "metadata": {},
   "outputs": [],
   "source": [
    "# Add total power column\n",
    "if \"Total Power\" not in power.columns:\n",
    "    power[\"Total Power\"] = power[power_cols].sum(axis=1)"
   ]
  },
  {
   "cell_type": "code",
   "execution_count": 10,
   "metadata": {},
   "outputs": [
    {
     "data": {
      "text/html": [
       "<div>\n",
       "<style scoped>\n",
       "    .dataframe tbody tr th:only-of-type {\n",
       "        vertical-align: middle;\n",
       "    }\n",
       "\n",
       "    .dataframe tbody tr th {\n",
       "        vertical-align: top;\n",
       "    }\n",
       "\n",
       "    .dataframe thead th {\n",
       "        text-align: right;\n",
       "    }\n",
       "</style>\n",
       "<table border=\"1\" class=\"dataframe\">\n",
       "  <thead>\n",
       "    <tr style=\"text-align: right;\">\n",
       "      <th></th>\n",
       "      <th>Timestamp</th>\n",
       "      <th>Chiller-2 Power</th>\n",
       "      <th>Chiller-3 Power</th>\n",
       "      <th>Chiller-4 Power</th>\n",
       "      <th>Chiller-5 Power</th>\n",
       "      <th>Chiller-6 Power</th>\n",
       "      <th>Chiller-7 Power</th>\n",
       "      <th>Chiller-8 Power</th>\n",
       "      <th>Chiller-9 Power</th>\n",
       "      <th>Chiller-10 Power</th>\n",
       "      <th>DATE</th>\n",
       "      <th>Total Power</th>\n",
       "    </tr>\n",
       "  </thead>\n",
       "  <tbody>\n",
       "    <tr>\n",
       "      <th>0</th>\n",
       "      <td>01-Mar-16 00:00:00</td>\n",
       "      <td>0.0</td>\n",
       "      <td>0.000000</td>\n",
       "      <td>1179.439331</td>\n",
       "      <td>0.0</td>\n",
       "      <td>0.0</td>\n",
       "      <td>0.0</td>\n",
       "      <td>0.0</td>\n",
       "      <td>0.0</td>\n",
       "      <td>0.0</td>\n",
       "      <td>2016-03-01 00:00:00</td>\n",
       "      <td>1179.439331</td>\n",
       "    </tr>\n",
       "    <tr>\n",
       "      <th>1</th>\n",
       "      <td>01-Mar-16 00:01:00</td>\n",
       "      <td>0.0</td>\n",
       "      <td>0.000000</td>\n",
       "      <td>1195.945435</td>\n",
       "      <td>0.0</td>\n",
       "      <td>0.0</td>\n",
       "      <td>0.0</td>\n",
       "      <td>0.0</td>\n",
       "      <td>0.0</td>\n",
       "      <td>0.0</td>\n",
       "      <td>2016-03-01 00:01:00</td>\n",
       "      <td>1195.945435</td>\n",
       "    </tr>\n",
       "    <tr>\n",
       "      <th>2</th>\n",
       "      <td>01-Mar-16 00:02:00</td>\n",
       "      <td>0.0</td>\n",
       "      <td>0.000000</td>\n",
       "      <td>1175.737549</td>\n",
       "      <td>0.0</td>\n",
       "      <td>0.0</td>\n",
       "      <td>0.0</td>\n",
       "      <td>0.0</td>\n",
       "      <td>0.0</td>\n",
       "      <td>0.0</td>\n",
       "      <td>2016-03-01 00:02:00</td>\n",
       "      <td>1175.737549</td>\n",
       "    </tr>\n",
       "    <tr>\n",
       "      <th>3</th>\n",
       "      <td>01-Mar-16 00:03:00</td>\n",
       "      <td>0.0</td>\n",
       "      <td>0.000000</td>\n",
       "      <td>1179.982910</td>\n",
       "      <td>0.0</td>\n",
       "      <td>0.0</td>\n",
       "      <td>0.0</td>\n",
       "      <td>0.0</td>\n",
       "      <td>0.0</td>\n",
       "      <td>0.0</td>\n",
       "      <td>2016-03-01 00:03:00</td>\n",
       "      <td>1179.982910</td>\n",
       "    </tr>\n",
       "    <tr>\n",
       "      <th>4</th>\n",
       "      <td>01-Mar-16 00:04:00</td>\n",
       "      <td>0.0</td>\n",
       "      <td>0.000000</td>\n",
       "      <td>1198.777954</td>\n",
       "      <td>0.0</td>\n",
       "      <td>0.0</td>\n",
       "      <td>0.0</td>\n",
       "      <td>0.0</td>\n",
       "      <td>0.0</td>\n",
       "      <td>0.0</td>\n",
       "      <td>2016-03-01 00:04:00</td>\n",
       "      <td>1198.777954</td>\n",
       "    </tr>\n",
       "    <tr>\n",
       "      <th>...</th>\n",
       "      <td>...</td>\n",
       "      <td>...</td>\n",
       "      <td>...</td>\n",
       "      <td>...</td>\n",
       "      <td>...</td>\n",
       "      <td>...</td>\n",
       "      <td>...</td>\n",
       "      <td>...</td>\n",
       "      <td>...</td>\n",
       "      <td>...</td>\n",
       "      <td>...</td>\n",
       "      <td>...</td>\n",
       "    </tr>\n",
       "    <tr>\n",
       "      <th>2629435</th>\n",
       "      <td>28-Feb-21 23:55:00</td>\n",
       "      <td>0.0</td>\n",
       "      <td>1382.180176</td>\n",
       "      <td>0.000000</td>\n",
       "      <td>0.0</td>\n",
       "      <td>0.0</td>\n",
       "      <td>0.0</td>\n",
       "      <td>0.0</td>\n",
       "      <td>0.0</td>\n",
       "      <td>0.0</td>\n",
       "      <td>2021-02-28 23:55:00</td>\n",
       "      <td>1382.180176</td>\n",
       "    </tr>\n",
       "    <tr>\n",
       "      <th>2629436</th>\n",
       "      <td>28-Feb-21 23:56:00</td>\n",
       "      <td>0.0</td>\n",
       "      <td>1367.581299</td>\n",
       "      <td>0.000000</td>\n",
       "      <td>0.0</td>\n",
       "      <td>0.0</td>\n",
       "      <td>0.0</td>\n",
       "      <td>0.0</td>\n",
       "      <td>0.0</td>\n",
       "      <td>0.0</td>\n",
       "      <td>2021-02-28 23:56:00</td>\n",
       "      <td>1367.581299</td>\n",
       "    </tr>\n",
       "    <tr>\n",
       "      <th>2629437</th>\n",
       "      <td>28-Feb-21 23:57:00</td>\n",
       "      <td>0.0</td>\n",
       "      <td>1352.855835</td>\n",
       "      <td>0.000000</td>\n",
       "      <td>0.0</td>\n",
       "      <td>0.0</td>\n",
       "      <td>0.0</td>\n",
       "      <td>0.0</td>\n",
       "      <td>0.0</td>\n",
       "      <td>0.0</td>\n",
       "      <td>2021-02-28 23:57:00</td>\n",
       "      <td>1352.855835</td>\n",
       "    </tr>\n",
       "    <tr>\n",
       "      <th>2629438</th>\n",
       "      <td>28-Feb-21 23:58:00</td>\n",
       "      <td>0.0</td>\n",
       "      <td>1352.390137</td>\n",
       "      <td>0.000000</td>\n",
       "      <td>0.0</td>\n",
       "      <td>0.0</td>\n",
       "      <td>0.0</td>\n",
       "      <td>0.0</td>\n",
       "      <td>0.0</td>\n",
       "      <td>0.0</td>\n",
       "      <td>2021-02-28 23:58:00</td>\n",
       "      <td>1352.390137</td>\n",
       "    </tr>\n",
       "    <tr>\n",
       "      <th>2629439</th>\n",
       "      <td>28-Feb-21 23:59:00</td>\n",
       "      <td>0.0</td>\n",
       "      <td>1386.171753</td>\n",
       "      <td>0.000000</td>\n",
       "      <td>0.0</td>\n",
       "      <td>0.0</td>\n",
       "      <td>0.0</td>\n",
       "      <td>0.0</td>\n",
       "      <td>0.0</td>\n",
       "      <td>0.0</td>\n",
       "      <td>2021-02-28 23:59:00</td>\n",
       "      <td>1386.171753</td>\n",
       "    </tr>\n",
       "  </tbody>\n",
       "</table>\n",
       "<p>2629440 rows × 12 columns</p>\n",
       "</div>"
      ],
      "text/plain": [
       "                  Timestamp  Chiller-2 Power  Chiller-3 Power  \\\n",
       "0        01-Mar-16 00:00:00              0.0         0.000000   \n",
       "1        01-Mar-16 00:01:00              0.0         0.000000   \n",
       "2        01-Mar-16 00:02:00              0.0         0.000000   \n",
       "3        01-Mar-16 00:03:00              0.0         0.000000   \n",
       "4        01-Mar-16 00:04:00              0.0         0.000000   \n",
       "...                     ...              ...              ...   \n",
       "2629435  28-Feb-21 23:55:00              0.0      1382.180176   \n",
       "2629436  28-Feb-21 23:56:00              0.0      1367.581299   \n",
       "2629437  28-Feb-21 23:57:00              0.0      1352.855835   \n",
       "2629438  28-Feb-21 23:58:00              0.0      1352.390137   \n",
       "2629439  28-Feb-21 23:59:00              0.0      1386.171753   \n",
       "\n",
       "         Chiller-4 Power  Chiller-5 Power  Chiller-6 Power  Chiller-7 Power  \\\n",
       "0            1179.439331              0.0              0.0              0.0   \n",
       "1            1195.945435              0.0              0.0              0.0   \n",
       "2            1175.737549              0.0              0.0              0.0   \n",
       "3            1179.982910              0.0              0.0              0.0   \n",
       "4            1198.777954              0.0              0.0              0.0   \n",
       "...                  ...              ...              ...              ...   \n",
       "2629435         0.000000              0.0              0.0              0.0   \n",
       "2629436         0.000000              0.0              0.0              0.0   \n",
       "2629437         0.000000              0.0              0.0              0.0   \n",
       "2629438         0.000000              0.0              0.0              0.0   \n",
       "2629439         0.000000              0.0              0.0              0.0   \n",
       "\n",
       "         Chiller-8 Power  Chiller-9 Power  Chiller-10 Power  \\\n",
       "0                    0.0              0.0               0.0   \n",
       "1                    0.0              0.0               0.0   \n",
       "2                    0.0              0.0               0.0   \n",
       "3                    0.0              0.0               0.0   \n",
       "4                    0.0              0.0               0.0   \n",
       "...                  ...              ...               ...   \n",
       "2629435              0.0              0.0               0.0   \n",
       "2629436              0.0              0.0               0.0   \n",
       "2629437              0.0              0.0               0.0   \n",
       "2629438              0.0              0.0               0.0   \n",
       "2629439              0.0              0.0               0.0   \n",
       "\n",
       "                       DATE  Total Power  \n",
       "0       2016-03-01 00:00:00  1179.439331  \n",
       "1       2016-03-01 00:01:00  1195.945435  \n",
       "2       2016-03-01 00:02:00  1175.737549  \n",
       "3       2016-03-01 00:03:00  1179.982910  \n",
       "4       2016-03-01 00:04:00  1198.777954  \n",
       "...                     ...          ...  \n",
       "2629435 2021-02-28 23:55:00  1382.180176  \n",
       "2629436 2021-02-28 23:56:00  1367.581299  \n",
       "2629437 2021-02-28 23:57:00  1352.855835  \n",
       "2629438 2021-02-28 23:58:00  1352.390137  \n",
       "2629439 2021-02-28 23:59:00  1386.171753  \n",
       "\n",
       "[2629440 rows x 12 columns]"
      ]
     },
     "execution_count": 10,
     "metadata": {},
     "output_type": "execute_result"
    }
   ],
   "source": [
    "power"
   ]
  },
  {
   "cell_type": "markdown",
   "metadata": {},
   "source": [
    "### Remove extraneous columns\n",
    "\n",
    "Only these kept columns do refer to hourly information"
   ]
  },
  {
   "cell_type": "code",
   "execution_count": 11,
   "metadata": {},
   "outputs": [],
   "source": [
    "weather = weather[[\"DATE\",\"HourlyAltimeterSetting\",\"HourlyDewPointTemperature\",\"HourlyDryBulbTemperature\",\"HourlyPrecipitation\",\"HourlyPresentWeatherType\",\"HourlyPressureChange\",\"HourlyPressureTendency\",\"HourlyRelativeHumidity\",\"HourlySeaLevelPressure\",\"HourlySkyConditions\",\"HourlyStationPressure\",\"HourlyVisibility\",\"HourlyWetBulbTemperature\",\"HourlyWindDirection\",\"HourlyWindGustSpeed\",\"HourlyWindSpeed\"]]"
   ]
  },
  {
   "cell_type": "markdown",
   "metadata": {},
   "source": [
    "# Clean weather data\n",
    "\n",
    "**Considerations:**\n",
    "\n",
    "NaN/blank cannot be assumed to be zero.\n",
    "\n",
    "s = suspect value (appears with value)\n",
    "\n",
    "T = trace precipitation amount or snow depth (an amount too small to measure, usually < 0.005 inches water equivalent) (appears instead of numeric value)\n",
    "\n",
    "M = missing value (appears instead of value)\n",
    "\n",
    "Blank = value is unreported (appears instead of value)"
   ]
  },
  {
   "cell_type": "code",
   "execution_count": 12,
   "metadata": {},
   "outputs": [
    {
     "name": "stdout",
     "output_type": "stream",
     "text": [
      "Size of weather: 67773\n",
      "Number of NaN/blank values in each column:\n"
     ]
    },
    {
     "data": {
      "text/plain": [
       "DATE                             0\n",
       "HourlyAltimeterSetting       11818\n",
       "HourlyDewPointTemperature     4610\n",
       "HourlyDryBulbTemperature      4610\n",
       "HourlyPrecipitation          17317\n",
       "HourlyPresentWeatherType     49933\n",
       "HourlyPressureChange         46169\n",
       "HourlyPressureTendency       46169\n",
       "HourlyRelativeHumidity        4610\n",
       "HourlySeaLevelPressure       16766\n",
       "HourlySkyConditions           7081\n",
       "HourlyStationPressure         5103\n",
       "HourlyVisibility              4577\n",
       "HourlyWetBulbTemperature      5105\n",
       "HourlyWindDirection           4672\n",
       "HourlyWindGustSpeed          58511\n",
       "HourlyWindSpeed               4590\n",
       "dtype: int64"
      ]
     },
     "execution_count": 12,
     "metadata": {},
     "output_type": "execute_result"
    }
   ],
   "source": [
    "# There is a lot of NaN values in the weather data. They cannot be assumed to be zero\n",
    "print(f\"Size of weather: {weather.shape[0]}\")\n",
    "print(\"Number of NaN/blank values in each column:\")\n",
    "weather.isna().sum()"
   ]
  },
  {
   "cell_type": "markdown",
   "metadata": {},
   "source": [
    "### Remove redundant columns\n",
    "\n",
    "HourlyAltimeterSetting: collinear with HourlyStationPressure\n",
    "\n",
    "HourlyPressureChange, HourlyPressureTendency: missing many values, redundant with HourlyStationPressure\n",
    "\n",
    "HourlySeaLevelPressure: a mapping of HourlyStationPressure.\n",
    "\n",
    "HourlyWindGustSpeed: missing many values, redundant with HourlyWindSpeed"
   ]
  },
  {
   "cell_type": "code",
   "execution_count": 13,
   "metadata": {},
   "outputs": [],
   "source": [
    "weather_clean = weather.drop([\"HourlyAltimeterSetting\", \"HourlyPressureChange\", \"HourlyPressureTendency\", \"HourlySeaLevelPressure\", \"HourlyWindGustSpeed\"],axis=1)"
   ]
  },
  {
   "cell_type": "markdown",
   "metadata": {},
   "source": [
    "### Remove invalid rows\n",
    "\n",
    "HourlyDryBulb is one of a set of 4 predictors that consistently occur together in most cases. Rows where they are missing are going to be missing crucial data, and should be removed to be interpolated later."
   ]
  },
  {
   "cell_type": "code",
   "execution_count": 14,
   "metadata": {},
   "outputs": [],
   "source": [
    "weather_clean = weather_clean[weather_clean[\"HourlyDryBulbTemperature\"].isna() == False]"
   ]
  },
  {
   "cell_type": "code",
   "execution_count": 15,
   "metadata": {},
   "outputs": [
    {
     "name": "stdout",
     "output_type": "stream",
     "text": [
      "Size of weather: 63163\n",
      "Number of NaN/blank values in each column:\n"
     ]
    },
    {
     "data": {
      "text/plain": [
       "DATE                             0\n",
       "HourlyDewPointTemperature        0\n",
       "HourlyDryBulbTemperature         0\n",
       "HourlyPrecipitation          12710\n",
       "HourlyPresentWeatherType     45323\n",
       "HourlyRelativeHumidity           0\n",
       "HourlySkyConditions           2472\n",
       "HourlyStationPressure          495\n",
       "HourlyVisibility                 1\n",
       "HourlyWetBulbTemperature       495\n",
       "HourlyWindDirection             96\n",
       "HourlyWindSpeed                 14\n",
       "dtype: int64"
      ]
     },
     "execution_count": 15,
     "metadata": {},
     "output_type": "execute_result"
    }
   ],
   "source": [
    "print(f\"Size of weather: {weather_clean.shape[0]}\")\n",
    "print(\"Number of NaN/blank values in each column:\")\n",
    "weather_clean.isna().sum()"
   ]
  },
  {
   "cell_type": "markdown",
   "metadata": {},
   "source": [
    "**Notes on remaining features**\n",
    "\n",
    "*HourlySkyConditions*: It is likely not worth including feature in models, due to difficulty in representation. It appears to have correlation with precipitation and weather metrics, indicating it might be useful in classifying entries for interpollating missing data points.\n",
    "\n",
    "The documentation suggests that the overall character of the sky can be classified by the topmost/final listed layer. This is how I will represent the feature.\n",
    "\n",
    "*HourlyPresentWeatherType*: Will need to be expanded as a dummy variable, because one measurement can have multiple values. We should be sure to consider additive effects of combined weather patterns.\n",
    "\n",
    "Each weather item is indicated to be light, moderate, and heavy. For now, I will avoid including this information. It may be worth expanding this info to additonal dummy variables if some weather type is shown to have usefulness.\n",
    "\n",
    "*HourlyPrecipitation*: Need to convert T (trace amount) to a number. I will use 0.01, as that seems to be used interchangably in this data set."
   ]
  },
  {
   "cell_type": "markdown",
   "metadata": {},
   "source": [
    "### Reduce HourlySkyConditions\n",
    "Coverage: CLR (clear sky), FEW (few clouds), SCT (scattered clouds), BKN (broken clouds), OVC (overcast), VV (obscured sky)"
   ]
  },
  {
   "cell_type": "code",
   "execution_count": 16,
   "metadata": {},
   "outputs": [
    {
     "data": {
      "text/plain": [
       "array(['BKN', nan, 'OVC', 'VV', 'SCT', 'FEW', 'CLR', 'X'], dtype=object)"
      ]
     },
     "execution_count": 16,
     "metadata": {},
     "output_type": "execute_result"
    }
   ],
   "source": [
    "def reduceSkyConditions(conditions):\n",
    "    condition = conditions.split(\" \")\n",
    "    if len(condition) >= 2:\n",
    "        condition = condition[-2]  # Take last condition ([-1] would be height of last condition)\n",
    "        condition = condition.split(\":\")[0]\n",
    "        return str(condition)\n",
    "    elif len(condition) == 1:\n",
    "        if condition[0] == \"CLR:00\":\n",
    "            return \"CLR\"\n",
    "        else:\n",
    "            return np.NaN\n",
    "    else:\n",
    "        return np.NaN\n",
    "\n",
    "weather_clean[\"HourlySkyConditions\"] = weather_clean.apply(lambda x: reduceSkyConditions(str(x[\"HourlySkyConditions\"])), axis=1)\n",
    "weather_clean[\"HourlySkyConditions\"].unique()"
   ]
  },
  {
   "cell_type": "markdown",
   "metadata": {},
   "source": [
    "### Reduce present weather type\n",
    "\n",
    "Three values given, seperated by pipes. The first (AU, automatic sensor) seems to be most valid for this data set."
   ]
  },
  {
   "cell_type": "code",
   "execution_count": 17,
   "metadata": {},
   "outputs": [
    {
     "data": {
      "text/plain": [
       "{'',\n",
       " '+PL',\n",
       " '+RA',\n",
       " '+SN',\n",
       " '-DZ',\n",
       " '-FZ',\n",
       " '-GS',\n",
       " '-PL',\n",
       " '-RA',\n",
       " '-SN',\n",
       " '-TS',\n",
       " 'BC',\n",
       " 'BL',\n",
       " 'BR',\n",
       " 'DZ',\n",
       " 'FG',\n",
       " 'FZ',\n",
       " 'GR',\n",
       " 'GS',\n",
       " 'HZ',\n",
       " 'MI',\n",
       " 'PL',\n",
       " 'RA',\n",
       " 'SN',\n",
       " 'SQ',\n",
       " 'TS',\n",
       " 'UP',\n",
       " 'VCTS'}"
      ]
     },
     "execution_count": 17,
     "metadata": {},
     "output_type": "execute_result"
    }
   ],
   "source": [
    "# Identify all used AU Codes\n",
    "\n",
    "au_codes = []\n",
    "\n",
    "def findAUCodes(conditions):\n",
    "    condition = conditions.split(\"|\")\n",
    "    if len(condition) > 1:\n",
    "        condition = condition[0]\n",
    "        condition = condition.split(\" \")\n",
    "        types = []\n",
    "        for cond in condition:\n",
    "            temp = cond.split(\":\")[0]\n",
    "#            if temp[0] == '-' or temp[0] == '+':\n",
    "#                temp = temp[1:]\n",
    "            types.append(temp)\n",
    "        return types\n",
    "    else:\n",
    "        return None\n",
    "\n",
    "out = weather.apply(lambda x: findAUCodes(str(x[\"HourlyPresentWeatherType\"])), axis=1)\n",
    "\n",
    "for i in out:\n",
    "    if i is not None:\n",
    "        for j in i:\n",
    "            au_codes.append(j)\n",
    "\n",
    "set(au_codes)"
   ]
  },
  {
   "cell_type": "code",
   "execution_count": 18,
   "metadata": {},
   "outputs": [],
   "source": [
    "#include possible AU codes from above block (option to ignore +/-)\n",
    "au_codes =  [\n",
    "                'BC',\n",
    "                'BL',\n",
    "                'BR',\n",
    "                'DZ',\n",
    "                'FG',\n",
    "                'FZ',\n",
    "                'GS',\n",
    "                'HZ',\n",
    "                'MI',\n",
    "                'PL',\n",
    "                'RA',\n",
    "                'SN',\n",
    "                'TS',\n",
    "                'VCTS'  # VCTS will co-occur with TS by this code, should be okay though. Can be improved with assumption that VCTS and TS are mutually exclusive\n",
    "            ]\n",
    "\n",
    "def reduceWeatherTypes(conditions):\n",
    "    condition = conditions.split(\"|\")\n",
    "    if len(condition) > 1:\n",
    "        condition = condition[0]\n",
    "        au_dummy = []\n",
    "        for au in au_codes:\n",
    "            au_dummy.append(int(au in condition))\n",
    "        return au_dummy\n",
    "    else:\n",
    "        return [0] * len(au_codes)\n",
    "    \n",
    "weather_type_dummies = weather_clean.apply(lambda x: reduceWeatherTypes(str(x[\"HourlyPresentWeatherType\"])), result_type='expand', axis=1)\n",
    "weather_type_dummies.columns = au_codes\n",
    "# weather_clean = weather_clean.drop([\"HourlyPresentWeatherType\"],axis=1)  # Should be done after NaN's are dealt with\n",
    "weather_clean = pd.concat([weather_clean, weather_type_dummies], axis=1)"
   ]
  },
  {
   "cell_type": "markdown",
   "metadata": {},
   "source": [
    "### Replace T with number in HourlyPrecipitation"
   ]
  },
  {
   "cell_type": "code",
   "execution_count": 19,
   "metadata": {},
   "outputs": [],
   "source": [
    "weather_clean.loc[weather_clean.HourlyPrecipitation == 'T', 'HourlyPrecipitation'] = 0.01"
   ]
  },
  {
   "cell_type": "markdown",
   "metadata": {},
   "source": [
    "# Create hourly summary data\n",
    "\n",
    "There's probably a ton of ways to do this. I will leverage here the observation that the measurements at 54 minute marks are the most consistently good. I will then map each of these hourly values to the nearest whole hour."
   ]
  },
  {
   "cell_type": "code",
   "execution_count": 20,
   "metadata": {},
   "outputs": [],
   "source": [
    "weather_summ = weather_clean[weather_clean[\"DATE\"].dt.minute == 54]"
   ]
  },
  {
   "cell_type": "code",
   "execution_count": 21,
   "metadata": {},
   "outputs": [
    {
     "name": "stdout",
     "output_type": "stream",
     "text": [
      "Size of weather: 43789\n",
      "Number of NaN/blank values in each column:\n"
     ]
    },
    {
     "data": {
      "text/plain": [
       "DATE                             0\n",
       "HourlyDewPointTemperature        0\n",
       "HourlyDryBulbTemperature         0\n",
       "HourlyPrecipitation            399\n",
       "HourlyPresentWeatherType     35171\n",
       "HourlyRelativeHumidity           0\n",
       "HourlySkyConditions            336\n",
       "HourlyStationPressure          333\n",
       "HourlyVisibility                 1\n",
       "HourlyWetBulbTemperature       333\n",
       "HourlyWindDirection              9\n",
       "HourlyWindSpeed                  9\n",
       "BC                               0\n",
       "BL                               0\n",
       "BR                               0\n",
       "DZ                               0\n",
       "FG                               0\n",
       "FZ                               0\n",
       "GS                               0\n",
       "HZ                               0\n",
       "MI                               0\n",
       "PL                               0\n",
       "RA                               0\n",
       "SN                               0\n",
       "TS                               0\n",
       "VCTS                             0\n",
       "dtype: int64"
      ]
     },
     "execution_count": 21,
     "metadata": {},
     "output_type": "execute_result"
    }
   ],
   "source": [
    "print(f\"Size of weather: {weather_summ.shape[0]}\")\n",
    "print(\"Number of NaN/blank values in each column:\")\n",
    "weather_summ.isna().sum()"
   ]
  },
  {
   "cell_type": "markdown",
   "metadata": {},
   "source": [
    "##### Assumptions to clean summary data:\n",
    "\n",
    "Many NaN around 2019-11-22. Maintenance? \n",
    "\n",
    "HourlyPrecipitation needs further investigation. Must beware T (Trace) values. Appears to be similar gaps to HourlySkyConditions\n",
    "\n",
    "HourlySkyConditions have gaps of missing data. Perhaps use a classifier to predict for missing values."
   ]
  },
  {
   "cell_type": "code",
   "execution_count": 22,
   "metadata": {},
   "outputs": [
    {
     "name": "stderr",
     "output_type": "stream",
     "text": [
      "C:\\Users\\Wade\\anaconda3\\lib\\site-packages\\ipykernel_launcher.py:2: SettingWithCopyWarning: \n",
      "A value is trying to be set on a copy of a slice from a DataFrame.\n",
      "Try using .loc[row_indexer,col_indexer] = value instead\n",
      "\n",
      "See the caveats in the documentation: https://pandas.pydata.org/pandas-docs/stable/user_guide/indexing.html#returning-a-view-versus-a-copy\n",
      "  \n"
     ]
    }
   ],
   "source": [
    "# Adjust each datetime to the nearest hour ***ROUNDING DOWN***\n",
    "weather_summ[\"DATE\"] = weather_summ[\"DATE\"].apply(lambda x: x.replace(minute=0))\n",
    "#weather_summ.set_index(\"DATE\")"
   ]
  },
  {
   "cell_type": "code",
   "execution_count": 23,
   "metadata": {},
   "outputs": [
    {
     "name": "stdout",
     "output_type": "stream",
     "text": [
      "3960    2016-08-13 00:00:00\n",
      "5617    2016-10-21 01:00:00\n",
      "5618    2016-10-21 02:00:00\n",
      "5619    2016-10-21 03:00:00\n",
      "5620    2016-10-21 04:00:00\n",
      "5621    2016-10-21 05:00:00\n",
      "6943    2016-12-15 07:00:00\n",
      "6986    2016-12-17 02:00:00\n",
      "14742   2017-11-05 06:00:00\n",
      "14978   2017-11-15 02:00:00\n",
      "15097   2017-11-20 01:00:00\n",
      "15677   2017-12-14 05:00:00\n",
      "15888   2017-12-23 00:00:00\n",
      "23761   2018-11-16 01:00:00\n",
      "25275   2019-01-18 03:00:00\n",
      "25493   2019-01-27 05:00:00\n",
      "26024   2019-02-18 08:00:00\n",
      "27013   2019-03-31 13:00:00\n",
      "30774   2019-09-04 06:00:00\n",
      "31917   2019-10-21 21:00:00\n",
      "32425   2019-11-12 01:00:00\n",
      "32677   2019-11-22 13:00:00\n",
      "32679   2019-11-22 15:00:00\n",
      "32948   2019-12-03 20:00:00\n",
      "32949   2019-12-03 21:00:00\n",
      "33117   2019-12-10 21:00:00\n",
      "33118   2019-12-10 22:00:00\n",
      "33119   2019-12-10 23:00:00\n",
      "33128   2019-12-11 08:00:00\n",
      "33134   2019-12-11 14:00:00\n",
      "33135   2019-12-11 15:00:00\n",
      "33187   2019-12-13 19:00:00\n",
      "33188   2019-12-13 20:00:00\n",
      "33212   2019-12-14 20:00:00\n",
      "39110   2020-08-16 14:00:00\n",
      "dtype: datetime64[ns]\n"
     ]
    }
   ],
   "source": [
    "all = pd.Series(data=pd.date_range(start=weather_summ[\"DATE\"].min(), end=weather_summ[\"DATE\"].max(), freq='H'))\n",
    "mask = all.isin(weather_summ[\"DATE\"].values)\n",
    "print(all[~mask])"
   ]
  },
  {
   "cell_type": "markdown",
   "metadata": {},
   "source": [
    "We need to fill in the missing data points. This can probably be done by using the averages of the other data points nearby."
   ]
  },
  {
   "cell_type": "markdown",
   "metadata": {},
   "source": [
    "# Cleaning power data\n",
    "\n",
    "It seems that some engines tend to show negative numbers consistently or during startup. This needs to be further investigated.\n",
    "\n",
    "Otherwise, power data can be converted to hourly information either by an average of all measurements in an hour or by sampling at regular hour intervals. Both methods are valid and produce similar results. The biggest proportional difference occurs in the small (sub 5000 Tonnes) power ranges. Ways to calculate each and compare in Excel are given below.\n",
    "\n",
    "There might be appliations where a max or min value over an hour will be useful as well."
   ]
  },
  {
   "cell_type": "markdown",
   "metadata": {},
   "source": [
    "```=AVERAGE(OFFSET(power!$K$2,(ROW(A1)-1)*60,,60,))```"
   ]
  },
  {
   "cell_type": "markdown",
   "metadata": {},
   "source": [
    "```=OFFSET(power!$K$2,(ROW(B1)-1)*60,,1,)```"
   ]
  },
  {
   "cell_type": "markdown",
   "metadata": {},
   "source": [
    "```=(B1-A1)/B1```"
   ]
  },
  {
   "cell_type": "code",
   "execution_count": 24,
   "metadata": {},
   "outputs": [],
   "source": [
    "# No cleaning done yet\n",
    "power_clean = power[[\"DATE\",\"Total Power\"]]\n",
    "#power_clean = power.set_index([\"DATE\"])"
   ]
  },
  {
   "cell_type": "code",
   "execution_count": 25,
   "metadata": {},
   "outputs": [
    {
     "name": "stdout",
     "output_type": "stream",
     "text": [
      "290     2016-03-13 02:00:00\n",
      "9026    2017-03-12 02:00:00\n",
      "17762   2018-03-11 02:00:00\n",
      "26498   2019-03-10 02:00:00\n",
      "35234   2020-03-08 02:00:00\n",
      "dtype: datetime64[ns]\n"
     ]
    }
   ],
   "source": [
    "# Check for time series continuity\n",
    "all_date = pd.Series(data=pd.date_range(start=power_clean[\"DATE\"].min(), end=power_clean[\"DATE\"].max(), freq='H'))\n",
    "mask = all_date.isin(power_clean[\"DATE\"].values)\n",
    "print(all_date[~mask])\n",
    "missing_dates = all_date[~mask].to_list()"
   ]
  },
  {
   "cell_type": "code",
   "execution_count": 26,
   "metadata": {},
   "outputs": [],
   "source": [
    "# This value should be zero to be consistent with surrounding data values\n",
    "missing_rows = [ [x, power_clean[power_clean['DATE'] == (x-pd.Timedelta(1, unit=\"h\"))]['Total Power'].values[0]] \n",
    "                for x in missing_dates]\n",
    "missing_val = pd.DataFrame(missing_rows, columns=['DATE','Total Power'])\n",
    "power_clean = power_clean.append(missing_val, ignore_index=True)\n",
    "\n",
    "power_clean = power_clean.sort_values(['DATE'])\n",
    "power_clean = power_clean.reset_index(drop=True)\n",
    "#power_clean = power_clean[:-1]"
   ]
  },
  {
   "cell_type": "code",
   "execution_count": 27,
   "metadata": {},
   "outputs": [
    {
     "data": {
      "text/html": [
       "<div>\n",
       "<style scoped>\n",
       "    .dataframe tbody tr th:only-of-type {\n",
       "        vertical-align: middle;\n",
       "    }\n",
       "\n",
       "    .dataframe tbody tr th {\n",
       "        vertical-align: top;\n",
       "    }\n",
       "\n",
       "    .dataframe thead th {\n",
       "        text-align: right;\n",
       "    }\n",
       "</style>\n",
       "<table border=\"1\" class=\"dataframe\">\n",
       "  <thead>\n",
       "    <tr style=\"text-align: right;\">\n",
       "      <th></th>\n",
       "      <th>DATE</th>\n",
       "      <th>Total Power</th>\n",
       "    </tr>\n",
       "  </thead>\n",
       "  <tbody>\n",
       "    <tr>\n",
       "      <th>0</th>\n",
       "      <td>2016-03-01 00:00:00</td>\n",
       "      <td>1179.439331</td>\n",
       "    </tr>\n",
       "    <tr>\n",
       "      <th>1</th>\n",
       "      <td>2016-03-01 00:01:00</td>\n",
       "      <td>1195.945435</td>\n",
       "    </tr>\n",
       "    <tr>\n",
       "      <th>2</th>\n",
       "      <td>2016-03-01 00:02:00</td>\n",
       "      <td>1175.737549</td>\n",
       "    </tr>\n",
       "    <tr>\n",
       "      <th>3</th>\n",
       "      <td>2016-03-01 00:03:00</td>\n",
       "      <td>1179.982910</td>\n",
       "    </tr>\n",
       "    <tr>\n",
       "      <th>4</th>\n",
       "      <td>2016-03-01 00:04:00</td>\n",
       "      <td>1198.777954</td>\n",
       "    </tr>\n",
       "    <tr>\n",
       "      <th>...</th>\n",
       "      <td>...</td>\n",
       "      <td>...</td>\n",
       "    </tr>\n",
       "    <tr>\n",
       "      <th>2629440</th>\n",
       "      <td>2021-02-28 23:55:00</td>\n",
       "      <td>1382.180176</td>\n",
       "    </tr>\n",
       "    <tr>\n",
       "      <th>2629441</th>\n",
       "      <td>2021-02-28 23:56:00</td>\n",
       "      <td>1367.581299</td>\n",
       "    </tr>\n",
       "    <tr>\n",
       "      <th>2629442</th>\n",
       "      <td>2021-02-28 23:57:00</td>\n",
       "      <td>1352.855835</td>\n",
       "    </tr>\n",
       "    <tr>\n",
       "      <th>2629443</th>\n",
       "      <td>2021-02-28 23:58:00</td>\n",
       "      <td>1352.390137</td>\n",
       "    </tr>\n",
       "    <tr>\n",
       "      <th>2629444</th>\n",
       "      <td>2021-02-28 23:59:00</td>\n",
       "      <td>1386.171753</td>\n",
       "    </tr>\n",
       "  </tbody>\n",
       "</table>\n",
       "<p>2629445 rows × 2 columns</p>\n",
       "</div>"
      ],
      "text/plain": [
       "                       DATE  Total Power\n",
       "0       2016-03-01 00:00:00  1179.439331\n",
       "1       2016-03-01 00:01:00  1195.945435\n",
       "2       2016-03-01 00:02:00  1175.737549\n",
       "3       2016-03-01 00:03:00  1179.982910\n",
       "4       2016-03-01 00:04:00  1198.777954\n",
       "...                     ...          ...\n",
       "2629440 2021-02-28 23:55:00  1382.180176\n",
       "2629441 2021-02-28 23:56:00  1367.581299\n",
       "2629442 2021-02-28 23:57:00  1352.855835\n",
       "2629443 2021-02-28 23:58:00  1352.390137\n",
       "2629444 2021-02-28 23:59:00  1386.171753\n",
       "\n",
       "[2629445 rows x 2 columns]"
      ]
     },
     "execution_count": 27,
     "metadata": {},
     "output_type": "execute_result"
    }
   ],
   "source": [
    "power_clean"
   ]
  },
  {
   "cell_type": "code",
   "execution_count": 28,
   "metadata": {},
   "outputs": [
    {
     "name": "stdout",
     "output_type": "stream",
     "text": [
      "Series([], dtype: datetime64[ns])\n"
     ]
    }
   ],
   "source": [
    "# Check for time series continuity\n",
    "all_date = pd.Series(data=pd.date_range(start=power_clean[\"DATE\"].min(), end=power_clean[\"DATE\"].max(), freq='H'))\n",
    "mask = all_date.isin(power_clean[\"DATE\"].values)\n",
    "print(all_date[~mask])"
   ]
  },
  {
   "cell_type": "markdown",
   "metadata": {},
   "source": [
    "### Convert to hourly summary"
   ]
  },
  {
   "cell_type": "markdown",
   "metadata": {},
   "source": [
    "Min and Max need to be fixed, currently they match all rows with min/max values, should only match those with right time and min/max"
   ]
  },
  {
   "cell_type": "code",
   "execution_count": 29,
   "metadata": {},
   "outputs": [],
   "source": [
    "power_summ_all = power_clean[power_clean['DATE'].dt.minute == 30][['DATE']]\n",
    "power_summ_all[\"DATE\"] = power_summ_all[\"DATE\"].apply(lambda x: x.replace(minute=0))"
   ]
  },
  {
   "cell_type": "code",
   "execution_count": 30,
   "metadata": {},
   "outputs": [],
   "source": [
    "power_summ_max = power_clean.groupby([power_clean[\"DATE\"].dt.year, power_clean[\"DATE\"].dt.dayofyear, power_clean[\"DATE\"].dt.hour], sort=False)['Total Power'].max().tolist()\n",
    "power_summ_all['Total Power (max)'] = power_summ_max"
   ]
  },
  {
   "cell_type": "code",
   "execution_count": 31,
   "metadata": {},
   "outputs": [],
   "source": [
    "power_summ_min = power_clean.groupby([power_clean[\"DATE\"].dt.year, power_clean[\"DATE\"].dt.dayofyear, power_clean[\"DATE\"].dt.hour], sort=False)['Total Power'].min().tolist()\n",
    "power_summ_all['Total Power (min)'] = power_summ_min"
   ]
  },
  {
   "cell_type": "code",
   "execution_count": 32,
   "metadata": {},
   "outputs": [],
   "source": [
    "power_summ_avg = power_clean.groupby([power_clean[\"DATE\"].dt.year, power_clean[\"DATE\"].dt.dayofyear, power_clean[\"DATE\"].dt.hour], sort=False)['Total Power'].mean().tolist()\n",
    "power_summ_all['Total Power (avg)'] = power_summ_avg"
   ]
  },
  {
   "cell_type": "code",
   "execution_count": 33,
   "metadata": {},
   "outputs": [],
   "source": [
    "# Get regular interval hourly (on top of the hour)\n",
    "power_summ_idx = power_clean['DATE'].dt.minute == 54\n",
    "power_summ_samp = power_clean[power_summ_idx]['Total Power'].tolist()\n",
    "power_summ_all['Total Power (samp)'] = power_summ_samp"
   ]
  },
  {
   "cell_type": "code",
   "execution_count": 34,
   "metadata": {},
   "outputs": [],
   "source": [
    "# TRUE: 1.5*IQR bound\n",
    "# FALSE: trim at 0.95\n",
    "if False:\n",
    "    # find upper bound for an hour's power and cap max value accordingly\n",
    "    grouped = power_clean.groupby([power_clean[\"DATE\"].dt.year, power_clean[\"DATE\"].dt.dayofyear, power_clean[\"DATE\"].dt.hour], sort=False)['Total Power']\n",
    "    q3 = grouped.quantile(0.75)\n",
    "    q1 = grouped.quantile(0.25)\n",
    "    capmax = (2.5*q3) - (1.5*q1)\n",
    "    s = grouped.size().tolist()\n",
    "    allmax = [item for item, count in zip(capmax, s) for i in range(count)]\n",
    "\n",
    "    power_summ_capmax = power_clean[power_clean['Total Power'] <= pd.Series(allmax)].groupby([power_clean[\"DATE\"].dt.year, power_clean[\"DATE\"].dt.dayofyear, power_clean[\"DATE\"].dt.hour], sort=False)['Total Power'].max().tolist()\n",
    "    power_summ_all['Total Power (max w/o outliers)'] = power_summ_capmax\n",
    "else:\n",
    "    power_summ_capmax = power_clean.groupby([power_clean[\"DATE\"].dt.year, power_clean[\"DATE\"].dt.dayofyear, power_clean[\"DATE\"].dt.hour], sort=False)['Total Power'].quantile(0.95).tolist()\n",
    "    power_summ_all['Total Power (trimmed)'] = power_summ_capmax"
   ]
  },
  {
   "cell_type": "markdown",
   "metadata": {},
   "source": [
    "# Merge data sets"
   ]
  },
  {
   "cell_type": "code",
   "execution_count": 35,
   "metadata": {},
   "outputs": [],
   "source": [
    "data = pd.merge(power_summ_all, weather_summ, how=\"left\", on='DATE')"
   ]
  },
  {
   "cell_type": "markdown",
   "metadata": {},
   "source": [
    "# Interpolate missing data\n",
    "Temporary solution for now, fill in NaN rows with row above"
   ]
  },
  {
   "cell_type": "code",
   "execution_count": 36,
   "metadata": {},
   "outputs": [],
   "source": [
    "# First, column HourlyPresentWeatherType can be removed, if nothin is present, if should be clear weather\n",
    "data = data.drop(['HourlyPresentWeatherType'],axis=1)"
   ]
  },
  {
   "cell_type": "code",
   "execution_count": 37,
   "metadata": {},
   "outputs": [],
   "source": [
    "# Some numeric values have a trailing 's' in their data type\n",
    "cols = ['HourlyDewPointTemperature', 'HourlyDryBulbTemperature',\n",
    "       'HourlyPrecipitation', 'HourlyRelativeHumidity',\n",
    "       'HourlyStationPressure', 'HourlyVisibility', 'HourlyWetBulbTemperature',\n",
    "       'HourlyWindDirection', 'HourlyWindSpeed']\n",
    "for col in cols:\n",
    "    data[col] = data[col].astype(str).str.extract(r'(\\d+\\.\\d+|\\d+)', expand=False).astype(float)"
   ]
  },
  {
   "cell_type": "code",
   "execution_count": 38,
   "metadata": {},
   "outputs": [
    {
     "name": "stdout",
     "output_type": "stream",
     "text": [
      "Size of data: 43824\n",
      "Number of NaN/blank values in each column:\n"
     ]
    },
    {
     "data": {
      "text/plain": [
       "DATE                           0\n",
       "Total Power (max)              0\n",
       "Total Power (min)              0\n",
       "Total Power (avg)              0\n",
       "Total Power (samp)             0\n",
       "Total Power (trimmed)          0\n",
       "HourlyDewPointTemperature     35\n",
       "HourlyDryBulbTemperature      35\n",
       "HourlyPrecipitation          434\n",
       "HourlyRelativeHumidity        35\n",
       "HourlySkyConditions          371\n",
       "HourlyStationPressure        368\n",
       "HourlyVisibility              36\n",
       "HourlyWetBulbTemperature     368\n",
       "HourlyWindDirection          772\n",
       "HourlyWindSpeed               44\n",
       "BC                            35\n",
       "BL                            35\n",
       "BR                            35\n",
       "DZ                            35\n",
       "FG                            35\n",
       "FZ                            35\n",
       "GS                            35\n",
       "HZ                            35\n",
       "MI                            35\n",
       "PL                            35\n",
       "RA                            35\n",
       "SN                            35\n",
       "TS                            35\n",
       "VCTS                          35\n",
       "dtype: int64"
      ]
     },
     "execution_count": 38,
     "metadata": {},
     "output_type": "execute_result"
    }
   ],
   "source": [
    "print(f\"Size of data: {data.shape[0]}\")\n",
    "print(\"Number of NaN/blank values in each column:\")\n",
    "data.isna().sum()"
   ]
  },
  {
   "cell_type": "code",
   "execution_count": 39,
   "metadata": {},
   "outputs": [
    {
     "name": "stdout",
     "output_type": "stream",
     "text": [
      "                     DATE  Total Power (max)  Total Power (min)  \\\n",
      "3959  2016-08-13 00:00:00       16819.509644       15859.861695   \n",
      "5525  2016-10-17 06:00:00        9830.459105        9147.666992   \n",
      "5616  2016-10-21 01:00:00        4637.665649        4240.743042   \n",
      "5617  2016-10-21 02:00:00        4405.222107        3957.757569   \n",
      "5618  2016-10-21 03:00:00        4140.148072        3813.323608   \n",
      "...                   ...                ...                ...   \n",
      "33253 2019-12-16 13:00:00        1190.562500        1105.034790   \n",
      "34665 2020-02-13 09:00:00           0.000000           0.000000   \n",
      "38710 2020-07-30 23:00:00       12805.599121       12381.304199   \n",
      "39109 2020-08-16 14:00:00       17051.412109       15738.970947   \n",
      "43127 2021-01-30 23:00:00        1725.273071        1620.433472   \n",
      "\n",
      "       Total Power (avg)  Total Power (samp)  Total Power (trimmed)  \\\n",
      "3959        16259.604106        15833.288817           16703.026178   \n",
      "5525         9579.900191         9875.745240            9762.412341   \n",
      "5616         4431.213744         4041.227723            4554.301490   \n",
      "5617         4184.170612         3952.176880            4355.425027   \n",
      "5618         3954.442739         3724.434693            4083.430234   \n",
      "...                  ...                 ...                    ...   \n",
      "33253        1142.123848         1140.548218            1168.406061   \n",
      "34665           0.000000            0.000000               0.000000   \n",
      "38710       12609.372331        12189.589844           12761.031689   \n",
      "39109       16434.070422        14727.539063           16953.233862   \n",
      "43127        1663.376062         1673.544312            1687.711097   \n",
      "\n",
      "       HourlyDewPointTemperature  HourlyDryBulbTemperature  \\\n",
      "3959                         NaN                       NaN   \n",
      "5525                        63.0                      63.0   \n",
      "5616                         NaN                       NaN   \n",
      "5617                         NaN                       NaN   \n",
      "5618                         NaN                       NaN   \n",
      "...                          ...                       ...   \n",
      "33253                       20.0                      34.0   \n",
      "34665                       28.0                      31.0   \n",
      "38710                       59.0                      64.0   \n",
      "39109                        NaN                       NaN   \n",
      "43127                        2.0                       5.0   \n",
      "\n",
      "       HourlyPrecipitation  HourlyRelativeHumidity  ...   FG   FZ   GS   HZ  \\\n",
      "3959                   NaN                     NaN  ...  NaN  NaN  NaN  NaN   \n",
      "5525                  0.01                   100.0  ...  0.0  0.0  0.0  0.0   \n",
      "5616                   NaN                     NaN  ...  NaN  NaN  NaN  NaN   \n",
      "5617                   NaN                     NaN  ...  NaN  NaN  NaN  NaN   \n",
      "5618                   NaN                     NaN  ...  NaN  NaN  NaN  NaN   \n",
      "...                    ...                     ...  ...  ...  ...  ...  ...   \n",
      "33253                  NaN                    56.0  ...  0.0  0.0  0.0  0.0   \n",
      "34665                 0.01                    89.0  ...  0.0  0.0  0.0  0.0   \n",
      "38710                  NaN                    84.0  ...  0.0  0.0  0.0  0.0   \n",
      "39109                  NaN                     NaN  ...  NaN  NaN  NaN  NaN   \n",
      "43127                  NaN                    87.0  ...  0.0  0.0  0.0  0.0   \n",
      "\n",
      "        MI   PL   RA   SN   TS  VCTS  \n",
      "3959   NaN  NaN  NaN  NaN  NaN   NaN  \n",
      "5525   0.0  0.0  0.0  0.0  0.0   0.0  \n",
      "5616   NaN  NaN  NaN  NaN  NaN   NaN  \n",
      "5617   NaN  NaN  NaN  NaN  NaN   NaN  \n",
      "5618   NaN  NaN  NaN  NaN  NaN   NaN  \n",
      "...    ...  ...  ...  ...  ...   ...  \n",
      "33253  0.0  0.0  0.0  0.0  0.0   0.0  \n",
      "34665  0.0  0.0  0.0  0.0  0.0   0.0  \n",
      "38710  0.0  0.0  0.0  0.0  0.0   0.0  \n",
      "39109  NaN  NaN  NaN  NaN  NaN   NaN  \n",
      "43127  0.0  0.0  0.0  0.0  0.0   0.0  \n",
      "\n",
      "[368 rows x 30 columns]\n"
     ]
    }
   ],
   "source": [
    "print(data[data.HourlyWetBulbTemperature.isna()])"
   ]
  },
  {
   "cell_type": "code",
   "execution_count": 40,
   "metadata": {},
   "outputs": [],
   "source": [
    "data = data.fillna(method='ffill')"
   ]
  },
  {
   "cell_type": "markdown",
   "metadata": {},
   "source": [
    "### Export to csv"
   ]
  },
  {
   "cell_type": "code",
   "execution_count": 41,
   "metadata": {},
   "outputs": [],
   "source": [
    "data.to_csv(\"merged_data_5yr.csv\")"
   ]
  },
  {
   "cell_type": "code",
   "execution_count": null,
   "metadata": {},
   "outputs": [],
   "source": []
  }
 ],
 "metadata": {
  "kernelspec": {
   "display_name": "Python 3",
   "language": "python",
   "name": "python3"
  },
  "language_info": {
   "codemirror_mode": {
    "name": "ipython",
    "version": 3
   },
   "file_extension": ".py",
   "mimetype": "text/x-python",
   "name": "python",
   "nbconvert_exporter": "python",
   "pygments_lexer": "ipython3",
   "version": "3.7.6"
  }
 },
 "nbformat": 4,
 "nbformat_minor": 4
}
