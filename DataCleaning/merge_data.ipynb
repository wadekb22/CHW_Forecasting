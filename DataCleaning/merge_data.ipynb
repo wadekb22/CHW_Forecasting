{
 "cells": [
  {
   "cell_type": "code",
   "execution_count": 1,
   "metadata": {},
   "outputs": [],
   "source": [
    "import pandas as pd\n",
    "import numpy as np"
   ]
  },
  {
   "cell_type": "code",
   "execution_count": 2,
   "metadata": {},
   "outputs": [
    {
     "name": "stderr",
     "output_type": "stream",
     "text": [
      "C:\\Users\\Wade\\anaconda3\\lib\\site-packages\\IPython\\core\\interactiveshell.py:3063: DtypeWarning: Columns (41,42,49) have mixed types.Specify dtype option on import or set low_memory=False.\n",
      "  interactivity=interactivity, compiler=compiler, result=result)\n",
      "C:\\Users\\Wade\\anaconda3\\lib\\site-packages\\IPython\\core\\interactiveshell.py:3063: DtypeWarning: Columns (1,2,3,4,5,6,7,8,9) have mixed types.Specify dtype option on import or set low_memory=False.\n",
      "  interactivity=interactivity, compiler=compiler, result=result)\n"
     ]
    }
   ],
   "source": [
    "weather = pd.read_csv(\"weather.csv\")\n",
    "power = pd.read_csv(\"power.csv\")"
   ]
  },
  {
   "cell_type": "markdown",
   "metadata": {},
   "source": [
    "### Convert all dates to datetime object"
   ]
  },
  {
   "cell_type": "code",
   "execution_count": 3,
   "metadata": {},
   "outputs": [],
   "source": [
    "power[\"DATE\"] = power.apply(lambda x: pd.Timestamp(x[\"Date\"]), axis=1)\n",
    "weather[\"DATE\"] = weather.apply(lambda x: pd.Timestamp(x[\"DATE\"]), axis=1)"
   ]
  },
  {
   "cell_type": "markdown",
   "metadata": {},
   "source": [
    "### Remove extraneous columns\n",
    "\n",
    "These columns do not refer to hourly information"
   ]
  },
  {
   "cell_type": "code",
   "execution_count": 4,
   "metadata": {},
   "outputs": [],
   "source": [
    "weather = weather[[\"DATE\",\"HourlyAltimeterSetting\",\"HourlyDewPointTemperature\",\"HourlyDryBulbTemperature\",\"HourlyPrecipitation\",\"HourlyPresentWeatherType\",\"HourlyPressureChange\",\"HourlyPressureTendency\",\"HourlyRelativeHumidity\",\"HourlySeaLevelPressure\",\"HourlySkyConditions\",\"HourlyStationPressure\",\"HourlyVisibility\",\"HourlyWetBulbTemperature\",\"HourlyWindDirection\",\"HourlyWindGustSpeed\",\"HourlyWindSpeed\"]]"
   ]
  },
  {
   "cell_type": "markdown",
   "metadata": {},
   "source": [
    "# Clean weather data\n",
    "\n",
    "**Considerations:**\n",
    "\n",
    "NaN/blank cannot be assumed to be zero.\n",
    "\n",
    "s = suspect value (appears with value)\n",
    "\n",
    "T = trace precipitation amount or snow depth (an amount too small to measure, usually < 0.005 inches water equivalent) (appears instead of numeric value)\n",
    "\n",
    "M = missing value (appears instead of value)\n",
    "\n",
    "Blank = value is unreported (appears instead of value)"
   ]
  },
  {
   "cell_type": "code",
   "execution_count": 5,
   "metadata": {},
   "outputs": [
    {
     "name": "stdout",
     "output_type": "stream",
     "text": [
      "Size of weather: 13802\n",
      "Number of NaN/blank values in each column:\n"
     ]
    },
    {
     "data": {
      "text/plain": [
       "DATE                             0\n",
       "HourlyAltimeterSetting        2409\n",
       "HourlyDewPointTemperature      954\n",
       "HourlyDryBulbTemperature       954\n",
       "HourlyPrecipitation           3626\n",
       "HourlyPresentWeatherType     10014\n",
       "HourlyPressureChange          9503\n",
       "HourlyPressureTendency        9503\n",
       "HourlyRelativeHumidity         954\n",
       "HourlySeaLevelPressure        3568\n",
       "HourlySkyConditions           1637\n",
       "HourlyStationPressure         1216\n",
       "HourlyVisibility               949\n",
       "HourlyWetBulbTemperature      1216\n",
       "HourlyWindDirection            968\n",
       "HourlyWindGustSpeed          12095\n",
       "HourlyWindSpeed                954\n",
       "dtype: int64"
      ]
     },
     "execution_count": 5,
     "metadata": {},
     "output_type": "execute_result"
    }
   ],
   "source": [
    "# There is a lot of NaN values in the weather data. They cannot be assumed to be zero\n",
    "print(f\"Size of weather: {weather.shape[0]}\")\n",
    "print(\"Number of NaN/blank values in each column:\")\n",
    "weather.isna().sum()"
   ]
  },
  {
   "cell_type": "markdown",
   "metadata": {},
   "source": [
    "### Remove redundant columns\n",
    "\n",
    "HourlyAltimeterSetting: collinear with HourlyStationPressure\n",
    "\n",
    "HourlyPressureChange, HourlyPressureTendency: missing many values, redundant with HourlyStationPressure\n",
    "\n",
    "HourlySeaLevelPressure: a mapping of HourlyStationPressure.\n",
    "\n",
    "HourlyWindGustSpeed: missing many values, redundant with HourlyWindSpeed"
   ]
  },
  {
   "cell_type": "code",
   "execution_count": 6,
   "metadata": {},
   "outputs": [],
   "source": [
    "weather_clean = weather.drop([\"HourlyAltimeterSetting\", \"HourlyPressureChange\", \"HourlyPressureTendency\", \"HourlySeaLevelPressure\", \"HourlyWindGustSpeed\"],axis=1)"
   ]
  },
  {
   "cell_type": "markdown",
   "metadata": {},
   "source": [
    "### Remove invalid rows\n",
    "\n",
    "HourlyDryBulb is one of a set of 4 predictors that consistently occur together in most cases. Rows where they are missing are going to be missing crucial data, and should be removed to be interpolated later."
   ]
  },
  {
   "cell_type": "code",
   "execution_count": 7,
   "metadata": {},
   "outputs": [],
   "source": [
    "weather_clean = weather_clean[weather_clean[\"HourlyDryBulbTemperature\"].isna() == False]"
   ]
  },
  {
   "cell_type": "code",
   "execution_count": 8,
   "metadata": {},
   "outputs": [
    {
     "name": "stdout",
     "output_type": "stream",
     "text": [
      "Size of weather: 12848\n",
      "Number of NaN/blank values in each column:\n"
     ]
    },
    {
     "data": {
      "text/plain": [
       "DATE                            0\n",
       "HourlyDewPointTemperature       0\n",
       "HourlyDryBulbTemperature        0\n",
       "HourlyPrecipitation          2675\n",
       "HourlyPresentWeatherType     9060\n",
       "HourlyRelativeHumidity          0\n",
       "HourlySkyConditions           683\n",
       "HourlyStationPressure         262\n",
       "HourlyVisibility                0\n",
       "HourlyWetBulbTemperature      262\n",
       "HourlyWindDirection            19\n",
       "HourlyWindSpeed                 5\n",
       "dtype: int64"
      ]
     },
     "execution_count": 8,
     "metadata": {},
     "output_type": "execute_result"
    }
   ],
   "source": [
    "print(f\"Size of weather: {weather_clean.shape[0]}\")\n",
    "print(\"Number of NaN/blank values in each column:\")\n",
    "weather_clean.isna().sum()"
   ]
  },
  {
   "cell_type": "markdown",
   "metadata": {},
   "source": [
    "**Notes on remaining features**\n",
    "\n",
    "*HourlySkyConditions*: It is likely not worth including feature in models, due to difficulty in representation. It appears to have correlation with precipitation and weather metrics, indicating it might be useful in classifying entries for interpollating missing data points.\n",
    "\n",
    "The documentation suggests that the overall character of the sky can be classified by the topmost/final listed layer. This is how I will represent the feature.\n",
    "\n",
    "*HourlyPresentWeatherType*: Will need to be expanded as a dummy variable, because one measurement can have multiple values. We should be sure to consider additive effects of combined weather patterns.\n",
    "\n",
    "Each weather item is indicated to be light, moderate, and heavy. For now, I will avoid including this information. It may be worth expanding this info to additonal dummy variables if some weather type is shown to have usefulness.\n",
    "\n",
    "*HourlyPrecipitation*: Need to convert T (trace amount) to a number. I will use 0.01, as that seems to be used interchangably in this data set."
   ]
  },
  {
   "cell_type": "markdown",
   "metadata": {},
   "source": [
    "### Reduce HourlySkyConditions\n",
    "Coverage: CLR (clear sky), FEW (few clouds), SCT (scattered clouds), BKN (broken clouds), OVC (overcast), VV (obscured sky)"
   ]
  },
  {
   "cell_type": "code",
   "execution_count": 9,
   "metadata": {},
   "outputs": [
    {
     "data": {
      "text/plain": [
       "array(['OVC', nan, 'SCT', 'FEW', 'BKN', 'CLR', 'VV'], dtype=object)"
      ]
     },
     "execution_count": 9,
     "metadata": {},
     "output_type": "execute_result"
    }
   ],
   "source": [
    "def reduceSkyConditions(conditions):\n",
    "    condition = conditions.split(\" \")\n",
    "    if len(condition) >= 2:\n",
    "        condition = condition[-2]  # Take last condition ([-1] would be height of last condition)\n",
    "        condition = condition.split(\":\")[0]\n",
    "        return str(condition)\n",
    "    elif len(condition) == 1:\n",
    "        if condition[0] == \"CLR:00\":\n",
    "            return \"CLR\"\n",
    "        else:\n",
    "            return np.NaN\n",
    "    else:\n",
    "        return np.NaN\n",
    "\n",
    "weather_clean[\"HourlySkyConditions\"] = weather_clean.apply(lambda x: reduceSkyConditions(str(x[\"HourlySkyConditions\"])), axis=1)\n",
    "weather_clean[\"HourlySkyConditions\"].unique()"
   ]
  },
  {
   "cell_type": "markdown",
   "metadata": {},
   "source": [
    "### Reduce present weather type\n",
    "\n",
    "Three values given, seperated by pipes. The first (AU, automatic sensor) seems to be most valid for this data set."
   ]
  },
  {
   "cell_type": "code",
   "execution_count": 10,
   "metadata": {},
   "outputs": [
    {
     "data": {
      "text/plain": [
       "{'',\n",
       " '+PL',\n",
       " '+RA',\n",
       " '+SN',\n",
       " '-DZ',\n",
       " '-FZ',\n",
       " '-PL',\n",
       " '-RA',\n",
       " '-SN',\n",
       " '-TS',\n",
       " 'BC',\n",
       " 'BL',\n",
       " 'BR',\n",
       " 'DZ',\n",
       " 'FG',\n",
       " 'FZ',\n",
       " 'GS',\n",
       " 'HZ',\n",
       " 'MI',\n",
       " 'PL',\n",
       " 'RA',\n",
       " 'SN',\n",
       " 'TS',\n",
       " 'VCTS'}"
      ]
     },
     "execution_count": 10,
     "metadata": {},
     "output_type": "execute_result"
    }
   ],
   "source": [
    "# Identify all used AU Codes\n",
    "\n",
    "au_codes = []\n",
    "\n",
    "def findAUCodes(conditions):\n",
    "    condition = conditions.split(\"|\")\n",
    "    if len(condition) > 1:\n",
    "        condition = condition[0]\n",
    "        condition = condition.split(\" \")\n",
    "        types = []\n",
    "        for cond in condition:\n",
    "            temp = cond.split(\":\")[0]\n",
    "#            if temp[0] == '-' or temp[0] == '+':\n",
    "#                temp = temp[1:]\n",
    "            types.append(temp)\n",
    "        return types\n",
    "    else:\n",
    "        return None\n",
    "\n",
    "out = weather.apply(lambda x: findAUCodes(str(x[\"HourlyPresentWeatherType\"])), axis=1)\n",
    "\n",
    "for i in out:\n",
    "    if i is not None:\n",
    "        for j in i:\n",
    "            au_codes.append(j)\n",
    "\n",
    "set(au_codes)"
   ]
  },
  {
   "cell_type": "code",
   "execution_count": 11,
   "metadata": {},
   "outputs": [],
   "source": [
    "#include possible AU codes from above block (option to ignore +/-)\n",
    "au_codes =  [\n",
    "                'BC',\n",
    "                'BL',\n",
    "                'BR',\n",
    "                'DZ',\n",
    "                'FG',\n",
    "                'FZ',\n",
    "                'GS',\n",
    "                'HZ',\n",
    "                'MI',\n",
    "                'PL',\n",
    "                'RA',\n",
    "                'SN',\n",
    "                'TS',\n",
    "                'VCTS'  # VCTS will co-occur with TS by this code, should be okay though. Can be improved with assumption that VCTS and TS are mutually exclusive\n",
    "            ]\n",
    "\n",
    "def reduceWeatherTypes(conditions):\n",
    "    condition = conditions.split(\"|\")\n",
    "    if len(condition) > 1:\n",
    "        condition = condition[0]\n",
    "        au_dummy = []\n",
    "        for au in au_codes:\n",
    "            au_dummy.append(int(au in condition))\n",
    "        return au_dummy\n",
    "    else:\n",
    "        return [0] * len(au_codes)\n",
    "    \n",
    "weather_type_dummies = weather_clean.apply(lambda x: reduceWeatherTypes(str(x[\"HourlyPresentWeatherType\"])), result_type='expand', axis=1)\n",
    "weather_type_dummies.columns = au_codes\n",
    "# weather_clean = weather_clean.drop([\"HourlyPresentWeatherType\"],axis=1)  # Should be done after NaN's are dealt with\n",
    "weather_clean = pd.concat([weather_clean, weather_type_dummies], axis=1)"
   ]
  },
  {
   "cell_type": "markdown",
   "metadata": {},
   "source": [
    "### Replace T with number in HourlyPrecipitation"
   ]
  },
  {
   "cell_type": "code",
   "execution_count": 12,
   "metadata": {},
   "outputs": [],
   "source": [
    "weather_clean.loc[weather_clean.HourlyPrecipitation == 'T', 'HourlyPrecipitation'] = 0.01"
   ]
  },
  {
   "cell_type": "markdown",
   "metadata": {},
   "source": [
    "# Create hourly summary data\n",
    "\n",
    "There's probably a ton of ways to do this. I will leverage here the observation that the measurements at 54 minute marks are the most consistently good. I will then map each of these hourly values to the nearest whole hour."
   ]
  },
  {
   "cell_type": "code",
   "execution_count": 13,
   "metadata": {},
   "outputs": [],
   "source": [
    "weather_summ = weather_clean[weather_clean[\"DATE\"].dt.minute == 54]"
   ]
  },
  {
   "cell_type": "code",
   "execution_count": 14,
   "metadata": {},
   "outputs": [
    {
     "name": "stdout",
     "output_type": "stream",
     "text": [
      "Size of weather: 8767\n",
      "Number of NaN/blank values in each column:\n"
     ]
    },
    {
     "data": {
      "text/plain": [
       "DATE                            0\n",
       "HourlyDewPointTemperature       0\n",
       "HourlyDryBulbTemperature        0\n",
       "HourlyPrecipitation           182\n",
       "HourlyPresentWeatherType     7038\n",
       "HourlyRelativeHumidity          0\n",
       "HourlySkyConditions           214\n",
       "HourlyStationPressure         214\n",
       "HourlyVisibility                0\n",
       "HourlyWetBulbTemperature      214\n",
       "HourlyWindDirection             2\n",
       "HourlyWindSpeed                 2\n",
       "BC                              0\n",
       "BL                              0\n",
       "BR                              0\n",
       "DZ                              0\n",
       "FG                              0\n",
       "FZ                              0\n",
       "GS                              0\n",
       "HZ                              0\n",
       "MI                              0\n",
       "PL                              0\n",
       "RA                              0\n",
       "SN                              0\n",
       "TS                              0\n",
       "VCTS                            0\n",
       "dtype: int64"
      ]
     },
     "execution_count": 14,
     "metadata": {},
     "output_type": "execute_result"
    }
   ],
   "source": [
    "print(f\"Size of weather: {weather_summ.shape[0]}\")\n",
    "print(\"Number of NaN/blank values in each column:\")\n",
    "weather_summ.isna().sum()"
   ]
  },
  {
   "cell_type": "markdown",
   "metadata": {},
   "source": [
    "##### Assumptions to clean summary data:\n",
    "\n",
    "Many NaN around 2019-11-22. Maintenance? \n",
    "\n",
    "HourlyPrecipitation needs further investigation. Must beware T (Trace) values. Appears to be similar gaps to HourlySkyConditions\n",
    "\n",
    "HourlySkyConditions have gaps of missing data. Perhaps use a classifier to predict for missing values."
   ]
  },
  {
   "cell_type": "code",
   "execution_count": 15,
   "metadata": {},
   "outputs": [
    {
     "name": "stderr",
     "output_type": "stream",
     "text": [
      "C:\\Users\\Wade\\anaconda3\\lib\\site-packages\\ipykernel_launcher.py:2: SettingWithCopyWarning: \n",
      "A value is trying to be set on a copy of a slice from a DataFrame.\n",
      "Try using .loc[row_indexer,col_indexer] = value instead\n",
      "\n",
      "See the caveats in the documentation: https://pandas.pydata.org/pandas-docs/stable/user_guide/indexing.html#returning-a-view-versus-a-copy\n",
      "  \n"
     ]
    }
   ],
   "source": [
    "# Adjust each datetime to the nearest hour ***ROUNDING DOWN***\n",
    "weather_summ[\"DATE\"] = weather_summ[\"DATE\"].apply(lambda x: x.replace(minute=0))\n",
    "#weather_summ.set_index(\"DATE\")"
   ]
  },
  {
   "cell_type": "code",
   "execution_count": 16,
   "metadata": {},
   "outputs": [
    {
     "name": "stdout",
     "output_type": "stream",
     "text": [
      "733    2019-03-31 13:00:00\n",
      "4494   2019-09-04 06:00:00\n",
      "5637   2019-10-21 21:00:00\n",
      "6145   2019-11-12 01:00:00\n",
      "6397   2019-11-22 13:00:00\n",
      "6399   2019-11-22 15:00:00\n",
      "6668   2019-12-03 20:00:00\n",
      "6669   2019-12-03 21:00:00\n",
      "6837   2019-12-10 21:00:00\n",
      "6838   2019-12-10 22:00:00\n",
      "6839   2019-12-10 23:00:00\n",
      "6848   2019-12-11 08:00:00\n",
      "6854   2019-12-11 14:00:00\n",
      "6855   2019-12-11 15:00:00\n",
      "6907   2019-12-13 19:00:00\n",
      "6908   2019-12-13 20:00:00\n",
      "6932   2019-12-14 20:00:00\n",
      "dtype: datetime64[ns]\n"
     ]
    }
   ],
   "source": [
    "all = pd.Series(data=pd.date_range(start=weather_summ[\"DATE\"].min(), end=weather_summ[\"DATE\"].max(), freq='H'))\n",
    "mask = all.isin(weather_summ[\"DATE\"].values)\n",
    "print(all[~mask])"
   ]
  },
  {
   "cell_type": "markdown",
   "metadata": {},
   "source": [
    "We need to fill in the missing data points. This can probably be done by using the averages of the other data points nearby."
   ]
  },
  {
   "cell_type": "markdown",
   "metadata": {},
   "source": [
    "# Cleaning power data\n",
    "\n",
    "It seems that some engines tend to show negative numbers consistently or during startup. This needs to be further investigated.\n",
    "\n",
    "Otherwise, power data can be converted to hourly information either by an average of all measurements in an hour or by sampling at regular hour intervals. Both methods are valid and produce similar results. The biggest proportional difference occurs in the small (sub 5000 Tonnes) power ranges. Ways to calculate each and compare in Excel are given below.\n",
    "\n",
    "There might be appliations where a max or min value over an hour will be useful as well."
   ]
  },
  {
   "cell_type": "markdown",
   "metadata": {},
   "source": [
    "```=AVERAGE(OFFSET(power!$K$2,(ROW(A1)-1)*60,,60,))```"
   ]
  },
  {
   "cell_type": "markdown",
   "metadata": {},
   "source": [
    "```=OFFSET(power!$K$2,(ROW(B1)-1)*60,,1,)```"
   ]
  },
  {
   "cell_type": "markdown",
   "metadata": {},
   "source": [
    "```=(B1-A1)/B1```"
   ]
  },
  {
   "cell_type": "code",
   "execution_count": 17,
   "metadata": {},
   "outputs": [],
   "source": [
    "# No cleaning done yet\n",
    "power_clean = power[[\"DATE\",\"Total Power\"]]\n",
    "#power_clean = power.set_index([\"DATE\"])"
   ]
  },
  {
   "cell_type": "code",
   "execution_count": 18,
   "metadata": {},
   "outputs": [
    {
     "name": "stdout",
     "output_type": "stream",
     "text": [
      "218   2019-03-10 02:00:00\n",
      "dtype: datetime64[ns]\n"
     ]
    }
   ],
   "source": [
    "# Check for time series continuity\n",
    "all = pd.Series(data=pd.date_range(start=power_clean[\"DATE\"].min(), end=power_clean[\"DATE\"].max(), freq='H'))\n",
    "mask = all.isin(power_clean[\"DATE\"].values)\n",
    "print(all[~mask])"
   ]
  },
  {
   "cell_type": "code",
   "execution_count": 19,
   "metadata": {},
   "outputs": [],
   "source": [
    "# This value should be zero to be consistent with surrounding data values\n",
    "missing_val = pd.DataFrame([[pd.Timestamp(\"2019-03-10 02:00:00\"), 0]], columns=['DATE','Total Power'])\n",
    "power_clean = power_clean.append(missing_val, ignore_index=True)\n",
    "\n",
    "power_clean = power_clean.sort_values(['DATE'])\n",
    "power_clean = power_clean.reset_index(drop=True)"
   ]
  },
  {
   "cell_type": "markdown",
   "metadata": {},
   "source": [
    "### Convert to hourly summary"
   ]
  },
  {
   "cell_type": "markdown",
   "metadata": {},
   "source": [
    "Min and Max need to be fixed, currently they match all rows with min/max values, should only match those with right time and min/max"
   ]
  },
  {
   "cell_type": "code",
   "execution_count": 20,
   "metadata": {},
   "outputs": [
    {
     "name": "stderr",
     "output_type": "stream",
     "text": [
      "C:\\Users\\Wade\\anaconda3\\lib\\site-packages\\ipykernel_launcher.py:4: SettingWithCopyWarning: \n",
      "A value is trying to be set on a copy of a slice from a DataFrame.\n",
      "Try using .loc[row_indexer,col_indexer] = value instead\n",
      "\n",
      "See the caveats in the documentation: https://pandas.pydata.org/pandas-docs/stable/user_guide/indexing.html#returning-a-view-versus-a-copy\n",
      "  after removing the cwd from sys.path.\n"
     ]
    }
   ],
   "source": [
    "# Get max hourly\n",
    "power_summ_idx = power_clean.groupby([power_clean[\"DATE\"].dt.year, power_clean[\"DATE\"].dt.dayofyear, power_clean[\"DATE\"].dt.hour], sort=False)['Total Power'].transform(max) == power_clean['Total Power']\n",
    "power_summ_max = power_clean[power_summ_idx]\n",
    "power_summ_max[\"DATE\"] = power_summ_max[\"DATE\"].apply(lambda x: x.replace(minute=0))"
   ]
  },
  {
   "cell_type": "code",
   "execution_count": 21,
   "metadata": {},
   "outputs": [
    {
     "name": "stderr",
     "output_type": "stream",
     "text": [
      "C:\\Users\\Wade\\anaconda3\\lib\\site-packages\\ipykernel_launcher.py:4: SettingWithCopyWarning: \n",
      "A value is trying to be set on a copy of a slice from a DataFrame.\n",
      "Try using .loc[row_indexer,col_indexer] = value instead\n",
      "\n",
      "See the caveats in the documentation: https://pandas.pydata.org/pandas-docs/stable/user_guide/indexing.html#returning-a-view-versus-a-copy\n",
      "  after removing the cwd from sys.path.\n"
     ]
    }
   ],
   "source": [
    "# Get min hourly\n",
    "power_summ_idx = power_clean.groupby([power_clean[\"DATE\"].dt.year, power_clean[\"DATE\"].dt.dayofyear, power_clean[\"DATE\"].dt.hour], sort=False)['Total Power'].transform(min) == power_clean['Total Power']\n",
    "power_summ_min = power_clean[power_summ_idx]\n",
    "power_summ_min[\"DATE\"] = power_summ_min[\"DATE\"].apply(lambda x: x.replace(minute=0))"
   ]
  },
  {
   "cell_type": "code",
   "execution_count": 22,
   "metadata": {},
   "outputs": [
    {
     "ename": "NameError",
     "evalue": "name 'avg_power_hourly' is not defined",
     "output_type": "error",
     "traceback": [
      "\u001b[1;31m---------------------------------------------------------------------------\u001b[0m",
      "\u001b[1;31mNameError\u001b[0m                                 Traceback (most recent call last)",
      "\u001b[1;32m<ipython-input-22-615fac9c682c>\u001b[0m in \u001b[0;36m<module>\u001b[1;34m\u001b[0m\n\u001b[1;32m----> 1\u001b[1;33m \u001b[0mavg_power_hourly\u001b[0m\u001b[1;33m\u001b[0m\u001b[1;33m\u001b[0m\u001b[0m\n\u001b[0m\u001b[0;32m      2\u001b[0m \u001b[1;33m\u001b[0m\u001b[0m\n\u001b[0;32m      3\u001b[0m \u001b[0mavg_power_hourly\u001b[0m\u001b[1;33m[\u001b[0m\u001b[1;34m'Total Power'\u001b[0m\u001b[1;33m]\u001b[0m\u001b[1;33m\u001b[0m\u001b[1;33m\u001b[0m\u001b[0m\n",
      "\u001b[1;31mNameError\u001b[0m: name 'avg_power_hourly' is not defined"
     ]
    }
   ],
   "source": [
    "avg_power_hourly\n",
    "\n",
    "avg_power_hourly['Total Power']"
   ]
  },
  {
   "cell_type": "code",
   "execution_count": null,
   "metadata": {},
   "outputs": [],
   "source": [
    "avg_power_hourly[\"Total Power\"]"
   ]
  },
  {
   "cell_type": "code",
   "execution_count": null,
   "metadata": {},
   "outputs": [],
   "source": [
    "power_summ_avg[\"DATE\"]"
   ]
  },
  {
   "cell_type": "code",
   "execution_count": null,
   "metadata": {},
   "outputs": [],
   "source": [
    "# Get average hourly\n",
    "avg_power_hourly = power_clean.groupby([power_clean[\"DATE\"].dt.year, power_clean[\"DATE\"].dt.dayofyear, power_clean[\"DATE\"].dt.hour]).mean()\n",
    "\n",
    "power_summ_idx = power_clean['DATE'].dt.minute == 0\n",
    "power_summ_avg = power_clean[power_summ_idx]\n",
    "\n",
    "power_summ_avg['Total Power'] = avg_power_hourly['Total Power']"
   ]
  },
  {
   "cell_type": "code",
   "execution_count": 23,
   "metadata": {},
   "outputs": [],
   "source": [
    "# Get regular interval hourly (on top of the hour)\n",
    "power_summ_idx = power_clean['DATE'].dt.minute == 0\n",
    "power_summ_reg = power_clean[power_summ_idx]"
   ]
  },
  {
   "cell_type": "markdown",
   "metadata": {},
   "source": [
    "# Merge data sets"
   ]
  },
  {
   "cell_type": "code",
   "execution_count": 28,
   "metadata": {},
   "outputs": [],
   "source": [
    "data = pd.merge(power_summ_reg, weather_summ, how=\"left\", on='DATE')"
   ]
  },
  {
   "cell_type": "code",
   "execution_count": 29,
   "metadata": {},
   "outputs": [
    {
     "name": "stdout",
     "output_type": "stream",
     "text": [
      "Size of data: 8786\n",
      "Number of NaN/blank values in each column:\n"
     ]
    },
    {
     "data": {
      "text/plain": [
       "DATE                            0\n",
       "Total Power                     0\n",
       "HourlyDewPointTemperature      18\n",
       "HourlyDryBulbTemperature       18\n",
       "HourlyPrecipitation           200\n",
       "HourlyPresentWeatherType     7057\n",
       "HourlyRelativeHumidity         18\n",
       "HourlySkyConditions           232\n",
       "HourlyStationPressure         232\n",
       "HourlyVisibility               18\n",
       "HourlyWetBulbTemperature      232\n",
       "HourlyWindDirection            20\n",
       "HourlyWindSpeed                20\n",
       "BC                             18\n",
       "BL                             18\n",
       "BR                             18\n",
       "DZ                             18\n",
       "FG                             18\n",
       "FZ                             18\n",
       "GS                             18\n",
       "HZ                             18\n",
       "MI                             18\n",
       "PL                             18\n",
       "RA                             18\n",
       "SN                             18\n",
       "TS                             18\n",
       "VCTS                           18\n",
       "dtype: int64"
      ]
     },
     "execution_count": 29,
     "metadata": {},
     "output_type": "execute_result"
    }
   ],
   "source": [
    "print(f\"Size of data: {data.shape[0]}\")\n",
    "print(\"Number of NaN/blank values in each column:\")\n",
    "data.isna().sum()"
   ]
  },
  {
   "cell_type": "code",
   "execution_count": 31,
   "metadata": {},
   "outputs": [
    {
     "name": "stdout",
     "output_type": "stream",
     "text": [
      "                    DATE   Total Power HourlyDewPointTemperature  \\\n",
      "733  2019-03-31 13:00:00   2067.812500                       NaN   \n",
      "4494 2019-09-04 06:00:00  13808.811040                       NaN   \n",
      "5637 2019-10-21 21:00:00   6226.552734                       NaN   \n",
      "6146 2019-11-12 01:00:00   1920.984375                       NaN   \n",
      "6398 2019-11-22 13:00:00   1272.465893                       NaN   \n",
      "6400 2019-11-22 15:00:00   1337.913975                       NaN   \n",
      "6669 2019-12-03 20:00:00      0.130878                       NaN   \n",
      "6670 2019-12-03 21:00:00      0.069048                       NaN   \n",
      "6838 2019-12-10 21:00:00   1082.128815                       NaN   \n",
      "6839 2019-12-10 22:00:00   1117.183392                       NaN   \n",
      "6840 2019-12-10 23:00:00   1111.797626                       NaN   \n",
      "6849 2019-12-11 08:00:00   1055.895508                       NaN   \n",
      "6855 2019-12-11 14:00:00   1134.415771                       NaN   \n",
      "6856 2019-12-11 15:00:00   1138.051392                       NaN   \n",
      "6908 2019-12-13 19:00:00   1168.471558                       NaN   \n",
      "6909 2019-12-13 20:00:00   1156.576538                       NaN   \n",
      "6933 2019-12-14 20:00:00   1107.612854                       NaN   \n",
      "8785 2020-03-01 00:00:00      0.175369                       NaN   \n",
      "\n",
      "      HourlyDryBulbTemperature HourlyPrecipitation HourlyPresentWeatherType  \\\n",
      "733                        NaN                 NaN                      NaN   \n",
      "4494                       NaN                 NaN                      NaN   \n",
      "5637                       NaN                 NaN                      NaN   \n",
      "6146                       NaN                 NaN                      NaN   \n",
      "6398                       NaN                 NaN                      NaN   \n",
      "6400                       NaN                 NaN                      NaN   \n",
      "6669                       NaN                 NaN                      NaN   \n",
      "6670                       NaN                 NaN                      NaN   \n",
      "6838                       NaN                 NaN                      NaN   \n",
      "6839                       NaN                 NaN                      NaN   \n",
      "6840                       NaN                 NaN                      NaN   \n",
      "6849                       NaN                 NaN                      NaN   \n",
      "6855                       NaN                 NaN                      NaN   \n",
      "6856                       NaN                 NaN                      NaN   \n",
      "6908                       NaN                 NaN                      NaN   \n",
      "6909                       NaN                 NaN                      NaN   \n",
      "6933                       NaN                 NaN                      NaN   \n",
      "8785                       NaN                 NaN                      NaN   \n",
      "\n",
      "      HourlyRelativeHumidity HourlySkyConditions HourlyStationPressure  \\\n",
      "733                      NaN                 NaN                   NaN   \n",
      "4494                     NaN                 NaN                   NaN   \n",
      "5637                     NaN                 NaN                   NaN   \n",
      "6146                     NaN                 NaN                   NaN   \n",
      "6398                     NaN                 NaN                   NaN   \n",
      "6400                     NaN                 NaN                   NaN   \n",
      "6669                     NaN                 NaN                   NaN   \n",
      "6670                     NaN                 NaN                   NaN   \n",
      "6838                     NaN                 NaN                   NaN   \n",
      "6839                     NaN                 NaN                   NaN   \n",
      "6840                     NaN                 NaN                   NaN   \n",
      "6849                     NaN                 NaN                   NaN   \n",
      "6855                     NaN                 NaN                   NaN   \n",
      "6856                     NaN                 NaN                   NaN   \n",
      "6908                     NaN                 NaN                   NaN   \n",
      "6909                     NaN                 NaN                   NaN   \n",
      "6933                     NaN                 NaN                   NaN   \n",
      "8785                     NaN                 NaN                   NaN   \n",
      "\n",
      "     HourlyVisibility  ...  FG  FZ  GS  HZ  MI  PL  RA  SN  TS  VCTS  \n",
      "733               NaN  ... NaN NaN NaN NaN NaN NaN NaN NaN NaN   NaN  \n",
      "4494              NaN  ... NaN NaN NaN NaN NaN NaN NaN NaN NaN   NaN  \n",
      "5637              NaN  ... NaN NaN NaN NaN NaN NaN NaN NaN NaN   NaN  \n",
      "6146              NaN  ... NaN NaN NaN NaN NaN NaN NaN NaN NaN   NaN  \n",
      "6398              NaN  ... NaN NaN NaN NaN NaN NaN NaN NaN NaN   NaN  \n",
      "6400              NaN  ... NaN NaN NaN NaN NaN NaN NaN NaN NaN   NaN  \n",
      "6669              NaN  ... NaN NaN NaN NaN NaN NaN NaN NaN NaN   NaN  \n",
      "6670              NaN  ... NaN NaN NaN NaN NaN NaN NaN NaN NaN   NaN  \n",
      "6838              NaN  ... NaN NaN NaN NaN NaN NaN NaN NaN NaN   NaN  \n",
      "6839              NaN  ... NaN NaN NaN NaN NaN NaN NaN NaN NaN   NaN  \n",
      "6840              NaN  ... NaN NaN NaN NaN NaN NaN NaN NaN NaN   NaN  \n",
      "6849              NaN  ... NaN NaN NaN NaN NaN NaN NaN NaN NaN   NaN  \n",
      "6855              NaN  ... NaN NaN NaN NaN NaN NaN NaN NaN NaN   NaN  \n",
      "6856              NaN  ... NaN NaN NaN NaN NaN NaN NaN NaN NaN   NaN  \n",
      "6908              NaN  ... NaN NaN NaN NaN NaN NaN NaN NaN NaN   NaN  \n",
      "6909              NaN  ... NaN NaN NaN NaN NaN NaN NaN NaN NaN   NaN  \n",
      "6933              NaN  ... NaN NaN NaN NaN NaN NaN NaN NaN NaN   NaN  \n",
      "8785              NaN  ... NaN NaN NaN NaN NaN NaN NaN NaN NaN   NaN  \n",
      "\n",
      "[18 rows x 27 columns]\n"
     ]
    }
   ],
   "source": [
    "print(data[data.BC.isna()])"
   ]
  },
  {
   "cell_type": "code",
   "execution_count": 1,
   "metadata": {},
   "outputs": [
    {
     "ename": "NameError",
     "evalue": "name 'data' is not defined",
     "output_type": "error",
     "traceback": [
      "\u001b[1;31m---------------------------------------------------------------------------\u001b[0m",
      "\u001b[1;31mNameError\u001b[0m                                 Traceback (most recent call last)",
      "\u001b[1;32m<ipython-input-1-467552cbf7da>\u001b[0m in \u001b[0;36m<module>\u001b[1;34m\u001b[0m\n\u001b[1;32m----> 1\u001b[1;33m \u001b[0mdata\u001b[0m\u001b[1;33m.\u001b[0m\u001b[0mto_csv\u001b[0m\u001b[1;33m(\u001b[0m\u001b[1;34m\"merged_data.csv\"\u001b[0m\u001b[1;33m)\u001b[0m\u001b[1;33m\u001b[0m\u001b[1;33m\u001b[0m\u001b[0m\n\u001b[0m",
      "\u001b[1;31mNameError\u001b[0m: name 'data' is not defined"
     ]
    }
   ],
   "source": [
    "data.to_csv(\"merged_data.csv\")"
   ]
  },
  {
   "cell_type": "code",
   "execution_count": null,
   "metadata": {},
   "outputs": [],
   "source": []
  }
 ],
 "metadata": {
  "kernelspec": {
   "display_name": "Python 3",
   "language": "python",
   "name": "python3"
  },
  "language_info": {
   "codemirror_mode": {
    "name": "ipython",
    "version": 3
   },
   "file_extension": ".py",
   "mimetype": "text/x-python",
   "name": "python",
   "nbconvert_exporter": "python",
   "pygments_lexer": "ipython3",
   "version": "3.7.6"
  }
 },
 "nbformat": 4,
 "nbformat_minor": 4
}
